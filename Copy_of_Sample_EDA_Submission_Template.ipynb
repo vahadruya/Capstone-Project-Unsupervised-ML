{
  "nbformat": 4,
  "nbformat_minor": 0,
  "metadata": {
    "colab": {
      "provenance": [],
      "collapsed_sections": [
        "FJNUwmbgGyua",
        "w6K7xa23Elo4",
        "yQaldy8SH6Dl",
        "PH-0ReGfmX4f",
        "mDgbUHAGgjLW",
        "HhfV-JJviCcP",
        "x71ZqKXriCWQ",
        "PBTbrJXOngz2",
        "u3PMJOP6ngxN",
        "GF8Ens_Soomf",
        "0wOQAZs5pc--",
        "K5QZ13OEpz2H",
        "lQ7QKXXCp7Bj",
        "448CDAPjqfQr",
        "KSlN3yHqYklG",
        "t6dVpIINYklI",
        "ijmpgYnKYklI",
        "-JiQyfWJYklI",
        "EM7whBJCYoAo",
        "fge-S5ZAYoAp",
        "85gYPyotYoAp",
        "RoGjAbkUYoAp",
        "4Of9eVA-YrdM",
        "iky9q4vBYrdO",
        "F6T5p64dYrdO",
        "y-Ehk30pYrdP",
        "bamQiAODYuh1",
        "QHF8YVU7Yuh3",
        "GwzvFGzlYuh3",
        "qYpmQ266Yuh3",
        "OH-pJp9IphqM",
        "bbFf2-_FphqN",
        "_ouA3fa0phqN",
        "Seke61FWphqN",
        "PIIx-8_IphqN",
        "t27r6nlMphqO",
        "r2jJGEOYphqO",
        "b0JNsNcRphqO",
        "BZR9WyysphqO",
        "jj7wYXLtphqO",
        "eZrbJ2SmphqO",
        "rFu4xreNphqO",
        "YJ55k-q6phqO",
        "gCFgpxoyphqP",
        "OVtJsKN_phqQ",
        "lssrdh5qphqQ",
        "U2RJ9gkRphqQ",
        "1M8mcRywphqQ",
        "tgIPom80phqQ",
        "JMzcOPDDphqR",
        "x-EpHcCOp1ci",
        "X_VqEhTip1ck",
        "8zGJKyg5p1ck",
        "PVzmfK_Ep1ck",
        "n3dbpmDWp1ck",
        "ylSl6qgtp1ck",
        "ZWILFDl5p1ck",
        "M7G43BXep1ck",
        "Ag9LCva-p1cl",
        "E6MkPsBcp1cl",
        "2cELzS2fp1cl",
        "3MPXvC8up1cl",
        "NC_X3p0fY2L0",
        "UV0SzAkaZNRQ",
        "YPEH6qLeZNRQ",
        "q29F0dvdveiT",
        "EXh0U9oCveiU",
        "22aHeOlLveiV",
        "JcMwzZxoAimU",
        "8G2x9gOozGDZ",
        "gCX9965dhzqZ",
        "gIfDvo9L0UH2"
      ],
      "include_colab_link": true
    },
    "kernelspec": {
      "name": "python3",
      "display_name": "Python 3"
    },
    "language_info": {
      "name": "python"
    }
  },
  "cells": [
    {
      "cell_type": "markdown",
      "metadata": {
        "id": "view-in-github",
        "colab_type": "text"
      },
      "source": [
        "<a href=\"https://colab.research.google.com/github/vahadruya/Capstone-Project-Unsupervised-ML-Topic-Modelling/blob/main/Copy_of_Sample_EDA_Submission_Template.ipynb\" target=\"_parent\"><img src=\"https://colab.research.google.com/assets/colab-badge.svg\" alt=\"Open In Colab\"/></a>"
      ]
    },
    {
      "cell_type": "markdown",
      "source": [
        "# **Project Name**    - Global Terrorism Dataset\n",
        "\n"
      ],
      "metadata": {
        "id": "vncDsAP0Gaoa"
      }
    },
    {
      "cell_type": "markdown",
      "source": [
        "##### **Project Type**    - EDA\n",
        "##### **Contribution**    - Individual\n",
        "##### **Name - Aditya A P**"
      ],
      "metadata": {
        "id": "beRrZCGUAJYm"
      }
    },
    {
      "cell_type": "markdown",
      "source": [
        "# **Project Summary -**"
      ],
      "metadata": {
        "id": "FJNUwmbgGyua"
      }
    },
    {
      "cell_type": "markdown",
      "source": [
        "Write the summary here within 500-600 words."
      ],
      "metadata": {
        "id": "F6v_1wHtG2nS"
      }
    },
    {
      "cell_type": "markdown",
      "source": [
        "# **GitHub Link -**"
      ],
      "metadata": {
        "id": "w6K7xa23Elo4"
      }
    },
    {
      "cell_type": "markdown",
      "source": [
        "Provide your GitHub Link here."
      ],
      "metadata": {
        "id": "h1o69JH3Eqqn"
      }
    },
    {
      "cell_type": "markdown",
      "source": [
        "# **Problem Statement**\n"
      ],
      "metadata": {
        "id": "yQaldy8SH6Dl"
      }
    },
    {
      "cell_type": "markdown",
      "source": [
        "**Write Problem Statement Here.**"
      ],
      "metadata": {
        "id": "DpeJGUA3kjGy"
      }
    },
    {
      "cell_type": "markdown",
      "source": [
        "#### **Define Your Business Objective?**"
      ],
      "metadata": {
        "id": "PH-0ReGfmX4f"
      }
    },
    {
      "cell_type": "markdown",
      "source": [
        "Answer Here."
      ],
      "metadata": {
        "id": "PhDvGCAqmjP1"
      }
    },
    {
      "cell_type": "markdown",
      "source": [
        "# **General Guidelines** : -  "
      ],
      "metadata": {
        "id": "mDgbUHAGgjLW"
      }
    },
    {
      "cell_type": "markdown",
      "source": [
        "1.   Well-structured, formatted, and commented code is required.\n",
        "2.   Exception Handling, Production Grade Code & Deployment Ready Code will be a plus. Those students will be awarded some additional credits.\n",
        "     \n",
        "     The additional credits will have advantages over other students during Star Student selection.\n",
        "       \n",
        "             [ Note: - Deployment Ready Code is defined as, the whole .ipynb notebook should be executable in one go\n",
        "                       without a single error logged. ]\n",
        "\n",
        "3.   Each and every logic should have proper comments.\n",
        "4. You may add as many number of charts you want. Make Sure for each and every chart the following format should be answered.\n",
        "        \n",
        "\n",
        "```\n",
        "# Chart visualization code\n",
        "```\n",
        "            \n",
        "\n",
        "*   Why did you pick the specific chart?\n",
        "*   What is/are the insight(s) found from the chart?\n",
        "* Will the gained insights help creating a positive business impact?\n",
        "Are there any insights that lead to negative growth? Justify with specific reason.\n",
        "\n",
        "5. You have to create at least 20 logical & meaningful charts having important insights.\n",
        "\n",
        "\n",
        "[ Hints : - Do the Vizualization in  a structured way while following \"UBM\" Rule.\n",
        "\n",
        "U - Univariate Analysis,\n",
        "\n",
        "B - Bivariate Analysis (Numerical - Categorical, Numerical - Numerical, Categorical - Categorical)\n",
        "\n",
        "M - Multivariate Analysis\n",
        " ]\n",
        "\n",
        "\n",
        "\n"
      ],
      "metadata": {
        "id": "ZrxVaUj-hHfC"
      }
    },
    {
      "cell_type": "markdown",
      "source": [
        "# **Let's Begin !**"
      ],
      "metadata": {
        "id": "O_i_v8NEhb9l"
      }
    },
    {
      "cell_type": "markdown",
      "source": [
        "## **1. Know Your Data**"
      ],
      "metadata": {
        "id": "HhfV-JJviCcP"
      }
    },
    {
      "cell_type": "markdown",
      "source": [
        "### Import Libraries"
      ],
      "metadata": {
        "id": "Y3lxredqlCYt"
      }
    },
    {
      "cell_type": "code",
      "source": [
        "# Import Libraries\n",
        "import pandas as pd\n",
        "import numpy as np\n",
        "import matplotlib.pyplot as plt\n",
        "import seaborn as sns\n",
        "import plotly.graph_objects as go"
      ],
      "metadata": {
        "id": "M8Vqi-pPk-HR"
      },
      "execution_count": 1,
      "outputs": []
    },
    {
      "cell_type": "markdown",
      "source": [
        "### Dataset Loading"
      ],
      "metadata": {
        "id": "3RnN4peoiCZX"
      }
    },
    {
      "cell_type": "code",
      "source": [
        "from google.colab import drive\n",
        "drive.mount('/content/drive')"
      ],
      "metadata": {
        "colab": {
          "base_uri": "https://localhost:8080/"
        },
        "id": "Pqh9jKaQg9Qi",
        "outputId": "591fd31a-4ee1-4536-e9c1-e6a639bd364c"
      },
      "execution_count": 2,
      "outputs": [
        {
          "output_type": "stream",
          "name": "stdout",
          "text": [
            "Mounted at /content/drive\n"
          ]
        }
      ]
    },
    {
      "cell_type": "code",
      "source": [
        "# Load Dataset\n",
        "path = '/content/drive/MyDrive/ALMA BETTER/Module 4/#CAPSTONE 4 - EDA/Input data/'\n",
        "df = pd.read_csv(path + 'Global Terrorism Data.csv', encoding = 'ISO-8859-1')"
      ],
      "metadata": {
        "id": "4CkvbW_SlZ_R",
        "colab": {
          "base_uri": "https://localhost:8080/"
        },
        "outputId": "0744b873-c651-4a43-f394-89a10b53804c"
      },
      "execution_count": 3,
      "outputs": [
        {
          "output_type": "stream",
          "name": "stderr",
          "text": [
            "<ipython-input-3-f4a11e6ffacd>:3: DtypeWarning: Columns (4,6,31,33,61,62,63,76,79,90,92,94,96,114,115,121) have mixed types. Specify dtype option on import or set low_memory=False.\n",
            "  df = pd.read_csv(path + 'Global Terrorism Data.csv', encoding = 'ISO-8859-1')\n"
          ]
        }
      ]
    },
    {
      "cell_type": "code",
      "source": [
        "sns.set()"
      ],
      "metadata": {
        "id": "Oucogu6uwrMy"
      },
      "execution_count": 4,
      "outputs": []
    },
    {
      "cell_type": "markdown",
      "source": [
        "### Dataset First View"
      ],
      "metadata": {
        "id": "x71ZqKXriCWQ"
      }
    },
    {
      "cell_type": "code",
      "source": [
        "# Dataset First Look\n",
        "df.head()"
      ],
      "metadata": {
        "id": "LWNFOSvLl09H",
        "colab": {
          "base_uri": "https://localhost:8080/",
          "height": 0
        },
        "outputId": "40550914-1b03-49cd-be78-3e425361a097"
      },
      "execution_count": 5,
      "outputs": [
        {
          "output_type": "execute_result",
          "data": {
            "text/plain": [
              "        eventid  iyear  imonth  iday approxdate  extended resolution  country  \\\n",
              "0  197000000001   1970       7     2        NaN         0        NaN       58   \n",
              "1  197000000002   1970       0     0        NaN         0        NaN      130   \n",
              "2  197001000001   1970       1     0        NaN         0        NaN      160   \n",
              "3  197001000002   1970       1     0        NaN         0        NaN       78   \n",
              "4  197001000003   1970       1     0        NaN         0        NaN      101   \n",
              "\n",
              "          country_txt  region  ... addnotes scite1 scite2  scite3  dbsource  \\\n",
              "0  Dominican Republic       2  ...      NaN    NaN    NaN     NaN      PGIS   \n",
              "1              Mexico       1  ...      NaN    NaN    NaN     NaN      PGIS   \n",
              "2         Philippines       5  ...      NaN    NaN    NaN     NaN      PGIS   \n",
              "3              Greece       8  ...      NaN    NaN    NaN     NaN      PGIS   \n",
              "4               Japan       4  ...      NaN    NaN    NaN     NaN      PGIS   \n",
              "\n",
              "   INT_LOG  INT_IDEO INT_MISC INT_ANY  related  \n",
              "0        0         0        0       0      NaN  \n",
              "1        0         1        1       1      NaN  \n",
              "2       -9        -9        1       1      NaN  \n",
              "3       -9        -9        1       1      NaN  \n",
              "4       -9        -9        1       1      NaN  \n",
              "\n",
              "[5 rows x 135 columns]"
            ],
            "text/html": [
              "\n",
              "\n",
              "  <div id=\"df-63a31c1d-c452-4805-9226-3e459e2f5936\">\n",
              "    <div class=\"colab-df-container\">\n",
              "      <div>\n",
              "<style scoped>\n",
              "    .dataframe tbody tr th:only-of-type {\n",
              "        vertical-align: middle;\n",
              "    }\n",
              "\n",
              "    .dataframe tbody tr th {\n",
              "        vertical-align: top;\n",
              "    }\n",
              "\n",
              "    .dataframe thead th {\n",
              "        text-align: right;\n",
              "    }\n",
              "</style>\n",
              "<table border=\"1\" class=\"dataframe\">\n",
              "  <thead>\n",
              "    <tr style=\"text-align: right;\">\n",
              "      <th></th>\n",
              "      <th>eventid</th>\n",
              "      <th>iyear</th>\n",
              "      <th>imonth</th>\n",
              "      <th>iday</th>\n",
              "      <th>approxdate</th>\n",
              "      <th>extended</th>\n",
              "      <th>resolution</th>\n",
              "      <th>country</th>\n",
              "      <th>country_txt</th>\n",
              "      <th>region</th>\n",
              "      <th>...</th>\n",
              "      <th>addnotes</th>\n",
              "      <th>scite1</th>\n",
              "      <th>scite2</th>\n",
              "      <th>scite3</th>\n",
              "      <th>dbsource</th>\n",
              "      <th>INT_LOG</th>\n",
              "      <th>INT_IDEO</th>\n",
              "      <th>INT_MISC</th>\n",
              "      <th>INT_ANY</th>\n",
              "      <th>related</th>\n",
              "    </tr>\n",
              "  </thead>\n",
              "  <tbody>\n",
              "    <tr>\n",
              "      <th>0</th>\n",
              "      <td>197000000001</td>\n",
              "      <td>1970</td>\n",
              "      <td>7</td>\n",
              "      <td>2</td>\n",
              "      <td>NaN</td>\n",
              "      <td>0</td>\n",
              "      <td>NaN</td>\n",
              "      <td>58</td>\n",
              "      <td>Dominican Republic</td>\n",
              "      <td>2</td>\n",
              "      <td>...</td>\n",
              "      <td>NaN</td>\n",
              "      <td>NaN</td>\n",
              "      <td>NaN</td>\n",
              "      <td>NaN</td>\n",
              "      <td>PGIS</td>\n",
              "      <td>0</td>\n",
              "      <td>0</td>\n",
              "      <td>0</td>\n",
              "      <td>0</td>\n",
              "      <td>NaN</td>\n",
              "    </tr>\n",
              "    <tr>\n",
              "      <th>1</th>\n",
              "      <td>197000000002</td>\n",
              "      <td>1970</td>\n",
              "      <td>0</td>\n",
              "      <td>0</td>\n",
              "      <td>NaN</td>\n",
              "      <td>0</td>\n",
              "      <td>NaN</td>\n",
              "      <td>130</td>\n",
              "      <td>Mexico</td>\n",
              "      <td>1</td>\n",
              "      <td>...</td>\n",
              "      <td>NaN</td>\n",
              "      <td>NaN</td>\n",
              "      <td>NaN</td>\n",
              "      <td>NaN</td>\n",
              "      <td>PGIS</td>\n",
              "      <td>0</td>\n",
              "      <td>1</td>\n",
              "      <td>1</td>\n",
              "      <td>1</td>\n",
              "      <td>NaN</td>\n",
              "    </tr>\n",
              "    <tr>\n",
              "      <th>2</th>\n",
              "      <td>197001000001</td>\n",
              "      <td>1970</td>\n",
              "      <td>1</td>\n",
              "      <td>0</td>\n",
              "      <td>NaN</td>\n",
              "      <td>0</td>\n",
              "      <td>NaN</td>\n",
              "      <td>160</td>\n",
              "      <td>Philippines</td>\n",
              "      <td>5</td>\n",
              "      <td>...</td>\n",
              "      <td>NaN</td>\n",
              "      <td>NaN</td>\n",
              "      <td>NaN</td>\n",
              "      <td>NaN</td>\n",
              "      <td>PGIS</td>\n",
              "      <td>-9</td>\n",
              "      <td>-9</td>\n",
              "      <td>1</td>\n",
              "      <td>1</td>\n",
              "      <td>NaN</td>\n",
              "    </tr>\n",
              "    <tr>\n",
              "      <th>3</th>\n",
              "      <td>197001000002</td>\n",
              "      <td>1970</td>\n",
              "      <td>1</td>\n",
              "      <td>0</td>\n",
              "      <td>NaN</td>\n",
              "      <td>0</td>\n",
              "      <td>NaN</td>\n",
              "      <td>78</td>\n",
              "      <td>Greece</td>\n",
              "      <td>8</td>\n",
              "      <td>...</td>\n",
              "      <td>NaN</td>\n",
              "      <td>NaN</td>\n",
              "      <td>NaN</td>\n",
              "      <td>NaN</td>\n",
              "      <td>PGIS</td>\n",
              "      <td>-9</td>\n",
              "      <td>-9</td>\n",
              "      <td>1</td>\n",
              "      <td>1</td>\n",
              "      <td>NaN</td>\n",
              "    </tr>\n",
              "    <tr>\n",
              "      <th>4</th>\n",
              "      <td>197001000003</td>\n",
              "      <td>1970</td>\n",
              "      <td>1</td>\n",
              "      <td>0</td>\n",
              "      <td>NaN</td>\n",
              "      <td>0</td>\n",
              "      <td>NaN</td>\n",
              "      <td>101</td>\n",
              "      <td>Japan</td>\n",
              "      <td>4</td>\n",
              "      <td>...</td>\n",
              "      <td>NaN</td>\n",
              "      <td>NaN</td>\n",
              "      <td>NaN</td>\n",
              "      <td>NaN</td>\n",
              "      <td>PGIS</td>\n",
              "      <td>-9</td>\n",
              "      <td>-9</td>\n",
              "      <td>1</td>\n",
              "      <td>1</td>\n",
              "      <td>NaN</td>\n",
              "    </tr>\n",
              "  </tbody>\n",
              "</table>\n",
              "<p>5 rows × 135 columns</p>\n",
              "</div>\n",
              "      <button class=\"colab-df-convert\" onclick=\"convertToInteractive('df-63a31c1d-c452-4805-9226-3e459e2f5936')\"\n",
              "              title=\"Convert this dataframe to an interactive table.\"\n",
              "              style=\"display:none;\">\n",
              "\n",
              "  <svg xmlns=\"http://www.w3.org/2000/svg\" height=\"24px\"viewBox=\"0 0 24 24\"\n",
              "       width=\"24px\">\n",
              "    <path d=\"M0 0h24v24H0V0z\" fill=\"none\"/>\n",
              "    <path d=\"M18.56 5.44l.94 2.06.94-2.06 2.06-.94-2.06-.94-.94-2.06-.94 2.06-2.06.94zm-11 1L8.5 8.5l.94-2.06 2.06-.94-2.06-.94L8.5 2.5l-.94 2.06-2.06.94zm10 10l.94 2.06.94-2.06 2.06-.94-2.06-.94-.94-2.06-.94 2.06-2.06.94z\"/><path d=\"M17.41 7.96l-1.37-1.37c-.4-.4-.92-.59-1.43-.59-.52 0-1.04.2-1.43.59L10.3 9.45l-7.72 7.72c-.78.78-.78 2.05 0 2.83L4 21.41c.39.39.9.59 1.41.59.51 0 1.02-.2 1.41-.59l7.78-7.78 2.81-2.81c.8-.78.8-2.07 0-2.86zM5.41 20L4 18.59l7.72-7.72 1.47 1.35L5.41 20z\"/>\n",
              "  </svg>\n",
              "      </button>\n",
              "\n",
              "\n",
              "\n",
              "    <div id=\"df-4cf01673-86e6-4281-ab14-4a129ee69742\">\n",
              "      <button class=\"colab-df-quickchart\" onclick=\"quickchart('df-4cf01673-86e6-4281-ab14-4a129ee69742')\"\n",
              "              title=\"Suggest charts.\"\n",
              "              style=\"display:none;\">\n",
              "\n",
              "<svg xmlns=\"http://www.w3.org/2000/svg\" height=\"24px\"viewBox=\"0 0 24 24\"\n",
              "     width=\"24px\">\n",
              "    <g>\n",
              "        <path d=\"M19 3H5c-1.1 0-2 .9-2 2v14c0 1.1.9 2 2 2h14c1.1 0 2-.9 2-2V5c0-1.1-.9-2-2-2zM9 17H7v-7h2v7zm4 0h-2V7h2v10zm4 0h-2v-4h2v4z\"/>\n",
              "    </g>\n",
              "</svg>\n",
              "      </button>\n",
              "    </div>\n",
              "\n",
              "<style>\n",
              "  .colab-df-quickchart {\n",
              "    background-color: #E8F0FE;\n",
              "    border: none;\n",
              "    border-radius: 50%;\n",
              "    cursor: pointer;\n",
              "    display: none;\n",
              "    fill: #1967D2;\n",
              "    height: 32px;\n",
              "    padding: 0 0 0 0;\n",
              "    width: 32px;\n",
              "  }\n",
              "\n",
              "  .colab-df-quickchart:hover {\n",
              "    background-color: #E2EBFA;\n",
              "    box-shadow: 0px 1px 2px rgba(60, 64, 67, 0.3), 0px 1px 3px 1px rgba(60, 64, 67, 0.15);\n",
              "    fill: #174EA6;\n",
              "  }\n",
              "\n",
              "  [theme=dark] .colab-df-quickchart {\n",
              "    background-color: #3B4455;\n",
              "    fill: #D2E3FC;\n",
              "  }\n",
              "\n",
              "  [theme=dark] .colab-df-quickchart:hover {\n",
              "    background-color: #434B5C;\n",
              "    box-shadow: 0px 1px 3px 1px rgba(0, 0, 0, 0.15);\n",
              "    filter: drop-shadow(0px 1px 2px rgba(0, 0, 0, 0.3));\n",
              "    fill: #FFFFFF;\n",
              "  }\n",
              "</style>\n",
              "\n",
              "    <script>\n",
              "      async function quickchart(key) {\n",
              "        const containerElement = document.querySelector('#' + key);\n",
              "        const charts = await google.colab.kernel.invokeFunction(\n",
              "            'suggestCharts', [key], {});\n",
              "      }\n",
              "    </script>\n",
              "\n",
              "      <script>\n",
              "\n",
              "function displayQuickchartButton(domScope) {\n",
              "  let quickchartButtonEl =\n",
              "    domScope.querySelector('#df-4cf01673-86e6-4281-ab14-4a129ee69742 button.colab-df-quickchart');\n",
              "  quickchartButtonEl.style.display =\n",
              "    google.colab.kernel.accessAllowed ? 'block' : 'none';\n",
              "}\n",
              "\n",
              "        displayQuickchartButton(document);\n",
              "      </script>\n",
              "      <style>\n",
              "    .colab-df-container {\n",
              "      display:flex;\n",
              "      flex-wrap:wrap;\n",
              "      gap: 12px;\n",
              "    }\n",
              "\n",
              "    .colab-df-convert {\n",
              "      background-color: #E8F0FE;\n",
              "      border: none;\n",
              "      border-radius: 50%;\n",
              "      cursor: pointer;\n",
              "      display: none;\n",
              "      fill: #1967D2;\n",
              "      height: 32px;\n",
              "      padding: 0 0 0 0;\n",
              "      width: 32px;\n",
              "    }\n",
              "\n",
              "    .colab-df-convert:hover {\n",
              "      background-color: #E2EBFA;\n",
              "      box-shadow: 0px 1px 2px rgba(60, 64, 67, 0.3), 0px 1px 3px 1px rgba(60, 64, 67, 0.15);\n",
              "      fill: #174EA6;\n",
              "    }\n",
              "\n",
              "    [theme=dark] .colab-df-convert {\n",
              "      background-color: #3B4455;\n",
              "      fill: #D2E3FC;\n",
              "    }\n",
              "\n",
              "    [theme=dark] .colab-df-convert:hover {\n",
              "      background-color: #434B5C;\n",
              "      box-shadow: 0px 1px 3px 1px rgba(0, 0, 0, 0.15);\n",
              "      filter: drop-shadow(0px 1px 2px rgba(0, 0, 0, 0.3));\n",
              "      fill: #FFFFFF;\n",
              "    }\n",
              "  </style>\n",
              "\n",
              "      <script>\n",
              "        const buttonEl =\n",
              "          document.querySelector('#df-63a31c1d-c452-4805-9226-3e459e2f5936 button.colab-df-convert');\n",
              "        buttonEl.style.display =\n",
              "          google.colab.kernel.accessAllowed ? 'block' : 'none';\n",
              "\n",
              "        async function convertToInteractive(key) {\n",
              "          const element = document.querySelector('#df-63a31c1d-c452-4805-9226-3e459e2f5936');\n",
              "          const dataTable =\n",
              "            await google.colab.kernel.invokeFunction('convertToInteractive',\n",
              "                                                     [key], {});\n",
              "          if (!dataTable) return;\n",
              "\n",
              "          const docLinkHtml = 'Like what you see? Visit the ' +\n",
              "            '<a target=\"_blank\" href=https://colab.research.google.com/notebooks/data_table.ipynb>data table notebook</a>'\n",
              "            + ' to learn more about interactive tables.';\n",
              "          element.innerHTML = '';\n",
              "          dataTable['output_type'] = 'display_data';\n",
              "          await google.colab.output.renderOutput(dataTable, element);\n",
              "          const docLink = document.createElement('div');\n",
              "          docLink.innerHTML = docLinkHtml;\n",
              "          element.appendChild(docLink);\n",
              "        }\n",
              "      </script>\n",
              "    </div>\n",
              "  </div>\n"
            ]
          },
          "metadata": {},
          "execution_count": 5
        }
      ]
    },
    {
      "cell_type": "markdown",
      "source": [
        "### Dataset Rows & Columns count"
      ],
      "metadata": {
        "id": "7hBIi_osiCS2"
      }
    },
    {
      "cell_type": "code",
      "source": [
        "# Dataset Rows & Columns count\n",
        "print(f'Number of rows in the dataset: {df.shape[0]}')\n",
        "print(f'Number of columns  in the dataset: {df.shape[1]}')"
      ],
      "metadata": {
        "id": "Kllu7SJgmLij",
        "colab": {
          "base_uri": "https://localhost:8080/"
        },
        "outputId": "5dea02fa-6931-4091-9a98-ab9e24f6f235"
      },
      "execution_count": 6,
      "outputs": [
        {
          "output_type": "stream",
          "name": "stdout",
          "text": [
            "Number of rows in the dataset: 181691\n",
            "Number of columns  in the dataset: 135\n"
          ]
        }
      ]
    },
    {
      "cell_type": "markdown",
      "source": [
        "### Dataset Information"
      ],
      "metadata": {
        "id": "JlHwYmJAmNHm"
      }
    },
    {
      "cell_type": "code",
      "source": [
        "# Dataset Info\n",
        "df.info(verbose = True, show_counts = True)"
      ],
      "metadata": {
        "id": "e9hRXRi6meOf",
        "colab": {
          "base_uri": "https://localhost:8080/"
        },
        "outputId": "879845c5-654a-4889-c6f9-a04accc80f4c"
      },
      "execution_count": 7,
      "outputs": [
        {
          "output_type": "stream",
          "name": "stdout",
          "text": [
            "<class 'pandas.core.frame.DataFrame'>\n",
            "RangeIndex: 181691 entries, 0 to 181690\n",
            "Data columns (total 135 columns):\n",
            " #    Column              Non-Null Count   Dtype  \n",
            "---   ------              --------------   -----  \n",
            " 0    eventid             181691 non-null  int64  \n",
            " 1    iyear               181691 non-null  int64  \n",
            " 2    imonth              181691 non-null  int64  \n",
            " 3    iday                181691 non-null  int64  \n",
            " 4    approxdate          9239 non-null    object \n",
            " 5    extended            181691 non-null  int64  \n",
            " 6    resolution          2220 non-null    object \n",
            " 7    country             181691 non-null  int64  \n",
            " 8    country_txt         181691 non-null  object \n",
            " 9    region              181691 non-null  int64  \n",
            " 10   region_txt          181691 non-null  object \n",
            " 11   provstate           181270 non-null  object \n",
            " 12   city                181257 non-null  object \n",
            " 13   latitude            177135 non-null  float64\n",
            " 14   longitude           177134 non-null  float64\n",
            " 15   specificity         181685 non-null  float64\n",
            " 16   vicinity            181691 non-null  int64  \n",
            " 17   location            55495 non-null   object \n",
            " 18   summary             115562 non-null  object \n",
            " 19   crit1               181691 non-null  int64  \n",
            " 20   crit2               181691 non-null  int64  \n",
            " 21   crit3               181691 non-null  int64  \n",
            " 22   doubtterr           181690 non-null  float64\n",
            " 23   alternative         29011 non-null   float64\n",
            " 24   alternative_txt     29011 non-null   object \n",
            " 25   multiple            181690 non-null  float64\n",
            " 26   success             181691 non-null  int64  \n",
            " 27   suicide             181691 non-null  int64  \n",
            " 28   attacktype1         181691 non-null  int64  \n",
            " 29   attacktype1_txt     181691 non-null  object \n",
            " 30   attacktype2         6314 non-null    float64\n",
            " 31   attacktype2_txt     6314 non-null    object \n",
            " 32   attacktype3         428 non-null     float64\n",
            " 33   attacktype3_txt     428 non-null     object \n",
            " 34   targtype1           181691 non-null  int64  \n",
            " 35   targtype1_txt       181691 non-null  object \n",
            " 36   targsubtype1        171318 non-null  float64\n",
            " 37   targsubtype1_txt    171318 non-null  object \n",
            " 38   corp1               139141 non-null  object \n",
            " 39   target1             181055 non-null  object \n",
            " 40   natlty1             180132 non-null  float64\n",
            " 41   natlty1_txt         180132 non-null  object \n",
            " 42   targtype2           11144 non-null   float64\n",
            " 43   targtype2_txt       11144 non-null   object \n",
            " 44   targsubtype2        10685 non-null   float64\n",
            " 45   targsubtype2_txt    10685 non-null   object \n",
            " 46   corp2               10117 non-null   object \n",
            " 47   target2             11020 non-null   object \n",
            " 48   natlty2             10828 non-null   float64\n",
            " 49   natlty2_txt         10828 non-null   object \n",
            " 50   targtype3           1176 non-null    float64\n",
            " 51   targtype3_txt       1176 non-null    object \n",
            " 52   targsubtype3        1097 non-null    float64\n",
            " 53   targsubtype3_txt    1097 non-null    object \n",
            " 54   corp3               1026 non-null    object \n",
            " 55   target3             1175 non-null    object \n",
            " 56   natlty3             1147 non-null    float64\n",
            " 57   natlty3_txt         1147 non-null    object \n",
            " 58   gname               181691 non-null  object \n",
            " 59   gsubname            5890 non-null    object \n",
            " 60   gname2              2013 non-null    object \n",
            " 61   gsubname2           160 non-null     object \n",
            " 62   gname3              324 non-null     object \n",
            " 63   gsubname3           20 non-null      object \n",
            " 64   motive              50561 non-null   object \n",
            " 65   guncertain1         181311 non-null  float64\n",
            " 66   guncertain2         1955 non-null    float64\n",
            " 67   guncertain3         320 non-null     float64\n",
            " 68   individual          181691 non-null  int64  \n",
            " 69   nperps              110576 non-null  float64\n",
            " 70   nperpcap            112202 non-null  float64\n",
            " 71   claimed             115571 non-null  float64\n",
            " 72   claimmode           19083 non-null   float64\n",
            " 73   claimmode_txt       19083 non-null   object \n",
            " 74   claim2              1890 non-null    float64\n",
            " 75   claimmode2          616 non-null     float64\n",
            " 76   claimmode2_txt      616 non-null     object \n",
            " 77   claim3              318 non-null     float64\n",
            " 78   claimmode3          133 non-null     float64\n",
            " 79   claimmode3_txt      133 non-null     object \n",
            " 80   compclaim           4839 non-null    float64\n",
            " 81   weaptype1           181691 non-null  int64  \n",
            " 82   weaptype1_txt       181691 non-null  object \n",
            " 83   weapsubtype1        160923 non-null  float64\n",
            " 84   weapsubtype1_txt    160923 non-null  object \n",
            " 85   weaptype2           13127 non-null   float64\n",
            " 86   weaptype2_txt       13127 non-null   object \n",
            " 87   weapsubtype2        11542 non-null   float64\n",
            " 88   weapsubtype2_txt    11542 non-null   object \n",
            " 89   weaptype3           1863 non-null    float64\n",
            " 90   weaptype3_txt       1863 non-null    object \n",
            " 91   weapsubtype3        1693 non-null    float64\n",
            " 92   weapsubtype3_txt    1693 non-null    object \n",
            " 93   weaptype4           73 non-null      float64\n",
            " 94   weaptype4_txt       73 non-null      object \n",
            " 95   weapsubtype4        70 non-null      float64\n",
            " 96   weapsubtype4_txt    70 non-null      object \n",
            " 97   weapdetail          114021 non-null  object \n",
            " 98   nkill               171378 non-null  float64\n",
            " 99   nkillus             117245 non-null  float64\n",
            " 100  nkillter            114733 non-null  float64\n",
            " 101  nwound              165380 non-null  float64\n",
            " 102  nwoundus            116989 non-null  float64\n",
            " 103  nwoundte            112548 non-null  float64\n",
            " 104  property            181691 non-null  int64  \n",
            " 105  propextent          64065 non-null   float64\n",
            " 106  propextent_txt      64065 non-null   object \n",
            " 107  propvalue           38989 non-null   float64\n",
            " 108  propcomment         57959 non-null   object \n",
            " 109  ishostkid           181513 non-null  float64\n",
            " 110  nhostkid            13572 non-null   float64\n",
            " 111  nhostkidus          13517 non-null   float64\n",
            " 112  nhours              4063 non-null    float64\n",
            " 113  ndays               8124 non-null    float64\n",
            " 114  divert              324 non-null     object \n",
            " 115  kidhijcountry       3305 non-null    object \n",
            " 116  ransom              77381 non-null   float64\n",
            " 117  ransomamt           1350 non-null    float64\n",
            " 118  ransomamtus         563 non-null     float64\n",
            " 119  ransompaid          774 non-null     float64\n",
            " 120  ransompaidus        552 non-null     float64\n",
            " 121  ransomnote          514 non-null     object \n",
            " 122  hostkidoutcome      10991 non-null   float64\n",
            " 123  hostkidoutcome_txt  10991 non-null   object \n",
            " 124  nreleased           10400 non-null   float64\n",
            " 125  addnotes            28289 non-null   object \n",
            " 126  scite1              115500 non-null  object \n",
            " 127  scite2              76933 non-null   object \n",
            " 128  scite3              43516 non-null   object \n",
            " 129  dbsource            181691 non-null  object \n",
            " 130  INT_LOG             181691 non-null  int64  \n",
            " 131  INT_IDEO            181691 non-null  int64  \n",
            " 132  INT_MISC            181691 non-null  int64  \n",
            " 133  INT_ANY             181691 non-null  int64  \n",
            " 134  related             25038 non-null   object \n",
            "dtypes: float64(55), int64(22), object(58)\n",
            "memory usage: 187.1+ MB\n"
          ]
        }
      ]
    },
    {
      "cell_type": "markdown",
      "source": [
        "#### Duplicate Values"
      ],
      "metadata": {
        "id": "35m5QtbWiB9F"
      }
    },
    {
      "cell_type": "code",
      "source": [
        "# Dataset Duplicate Value Count\n",
        "print(f'Number of duplicated rows in the dataset: {df.duplicated().sum()}')"
      ],
      "metadata": {
        "id": "1sLdpKYkmox0",
        "colab": {
          "base_uri": "https://localhost:8080/"
        },
        "outputId": "19f862f7-c148-435c-bf93-66d99cde7b5b"
      },
      "execution_count": 8,
      "outputs": [
        {
          "output_type": "stream",
          "name": "stdout",
          "text": [
            "Number of duplicated rows in the dataset: 0\n"
          ]
        }
      ]
    },
    {
      "cell_type": "markdown",
      "source": [
        "It is expected that **eventid** column should have all unique values, as it represents a unique event of terrorism."
      ],
      "metadata": {
        "id": "HtFoKRXZixGE"
      }
    },
    {
      "cell_type": "code",
      "source": [
        "df['eventid'].duplicated().sum()"
      ],
      "metadata": {
        "colab": {
          "base_uri": "https://localhost:8080/"
        },
        "id": "5QFuRIjMifgv",
        "outputId": "73002c1a-4c04-4281-d703-fefdd5d657b3"
      },
      "execution_count": 9,
      "outputs": [
        {
          "output_type": "execute_result",
          "data": {
            "text/plain": [
              "0"
            ]
          },
          "metadata": {},
          "execution_count": 9
        }
      ]
    },
    {
      "cell_type": "markdown",
      "source": [
        "#### Missing Values/Null Values"
      ],
      "metadata": {
        "id": "PoPl-ycgm1ru"
      }
    },
    {
      "cell_type": "code",
      "source": [
        "# Missing Values/Null Values Count\n",
        "print(f'There are {df.isna().sum().sum()} missing values in the dataset\\n\\nThe columns which have missing values are:')\n",
        "dfna = df.isna().sum()\n",
        "print(dfna[dfna != 0])"
      ],
      "metadata": {
        "id": "GgHWkxvamxVg",
        "colab": {
          "base_uri": "https://localhost:8080/"
        },
        "outputId": "9d48db38-35c6-47f1-b19d-d83239164fb7"
      },
      "execution_count": 10,
      "outputs": [
        {
          "output_type": "stream",
          "name": "stdout",
          "text": [
            "There are 13853997 missing values in the dataset\n",
            "\n",
            "The columns which have missing values are:\n",
            "approxdate    172452\n",
            "resolution    179471\n",
            "provstate        421\n",
            "city             434\n",
            "latitude        4556\n",
            "               ...  \n",
            "addnotes      153402\n",
            "scite1         66191\n",
            "scite2        104758\n",
            "scite3        138175\n",
            "related       156653\n",
            "Length: 106, dtype: int64\n"
          ]
        }
      ]
    },
    {
      "cell_type": "code",
      "source": [
        "# Visualizing the missing values of only columns with missing values\n",
        "plt.figure(figsize = (13, 10))\n",
        "sns.heatmap(df[dfna[dfna != 0].index].isna())"
      ],
      "metadata": {
        "id": "3q5wnI3om9sJ",
        "colab": {
          "base_uri": "https://localhost:8080/",
          "height": 996
        },
        "outputId": "8173c951-e05f-4588-8718-e403777cde64"
      },
      "execution_count": 11,
      "outputs": [
        {
          "output_type": "execute_result",
          "data": {
            "text/plain": [
              "<Axes: >"
            ]
          },
          "metadata": {},
          "execution_count": 11
        },
        {
          "output_type": "display_data",
          "data": {
            "text/plain": [
              "<Figure size 1300x1000 with 2 Axes>"
            ],
            "image/png": "[encoded data removed]"
          },
          "metadata": {}
        }
      ]
    },
    {
      "cell_type": "markdown",
      "source": [
        "### What did you know about your dataset?"
      ],
      "metadata": {
        "id": "H0kj-8xxnORC"
      }
    },
    {
      "cell_type": "markdown",
      "source": [
        "On a first look at the dataset, it is found that\n",
        "*   There are **181691 rows and 135 columns**, out of which one is **eventid**, which is a primary key to the dataset.\n",
        "*   There are **no duplicated data** in the dataset, and all values in **eventid** column are **unique**\n",
        "*   There are **several missing values** in the dataset, since many of the columns are markers or counters which display null values when not necessary.\n",
        "*   Due to the extremely large width of the dataset, only necessary columns will be chosen based on intelligent selection for Data Analysis. Null values shall be dealt with on this select features only."
      ],
      "metadata": {
        "id": "gfoNAAC-nUe_"
      }
    },
    {
      "cell_type": "markdown",
      "source": [
        "## **2. Understanding Your Variables**"
      ],
      "metadata": {
        "id": "nA9Y7ga8ng1Z"
      }
    },
    {
      "cell_type": "markdown",
      "source": [
        "Since there are several columns in the dataset, it is cumbersome to analyse each of them in this section. Instead, part of **Data Wrangling** shall be done here so that only certain variables (deemed important for a proper EDA of the dataset) shall be selected.\n",
        "\n",
        "First, those columns are filtered out which contain a large number of missing values (~15-20% of the column)"
      ],
      "metadata": {
        "id": "Q6RgBb1QJX_r"
      }
    },
    {
      "cell_type": "code",
      "source": [
        "# Computing the percentage of missing values in each column\n",
        "dfnan = df.isna().sum()*100/df.shape[0]\n",
        "\n",
        "# Printing columns with less than 15% missing values\n",
        "dfnan[dfnan < 15].index"
      ],
      "metadata": {
        "colab": {
          "base_uri": "https://localhost:8080/"
        },
        "id": "RH0ZO5CeJU_6",
        "outputId": "b63eb5fb-33d0-4eb9-ccba-e59b65864bb1"
      },
      "execution_count": 31,
      "outputs": [
        {
          "output_type": "execute_result",
          "data": {
            "text/plain": [
              "Index(['eventid', 'iyear', 'imonth', 'iday', 'extended', 'country',\n",
              "       'country_txt', 'region', 'region_txt', 'provstate', 'city', 'latitude',\n",
              "       'longitude', 'specificity', 'vicinity', 'crit1', 'crit2', 'crit3',\n",
              "       'doubtterr', 'multiple', 'success', 'suicide', 'attacktype1',\n",
              "       'attacktype1_txt', 'targtype1', 'targtype1_txt', 'targsubtype1',\n",
              "       'targsubtype1_txt', 'target1', 'natlty1', 'natlty1_txt', 'gname',\n",
              "       'guncertain1', 'individual', 'weaptype1', 'weaptype1_txt',\n",
              "       'weapsubtype1', 'weapsubtype1_txt', 'nkill', 'nwound', 'property',\n",
              "       'ishostkid', 'dbsource', 'INT_LOG', 'INT_IDEO', 'INT_MISC', 'INT_ANY'],\n",
              "      dtype='object')"
            ]
          },
          "metadata": {},
          "execution_count": 31
        }
      ]
    },
    {
      "cell_type": "code",
      "source": [
        "# Selecting necessary columns for EDA\n",
        "cols = [\n",
        "        'eventid', 'iyear', 'imonth', 'iday', 'country_txt', 'region_txt', 'provstate',\n",
        "        'city', 'latitude', 'longitude', 'success', 'suicide', 'attacktype1_txt',\n",
        "        'targtype1_txt', 'gname', 'weaptype1_txt', 'nkill', 'nwound', 'extended'\n",
        "       ]\n",
        "\n",
        "data = df[cols].copy()\n",
        "\n",
        "# Renaming columns appropriately\n",
        "col_rename = {\n",
        "              'iyear':'year', 'imonth':'month', 'iday':'day', 'country_txt':'country', 'region_txt':'region', 'gname':'group',\n",
        "              'provstate':'state', 'attacktype1_txt':'attack_type', 'targtype1_txt':'target', 'weaptype1_txt':'weapon_type'\n",
        "             }\n",
        "\n",
        "data.rename(columns = col_rename, inplace = True)"
      ],
      "metadata": {
        "id": "mBtqIbxjmZql"
      },
      "execution_count": 32,
      "outputs": []
    },
    {
      "cell_type": "markdown",
      "source": [
        "*   Out of the above selected columns, the following are used only for referencing or when studying particular/specific cases, and are not primarily involved in the EDA:\n",
        "  *   **month**\n",
        "  *   **day**\n",
        "  *   **provstate**\n",
        "  *   **city**\n",
        "  *   **latitude**\n",
        "  *   **longitude**\n"
      ],
      "metadata": {
        "id": "4u7TrRg90Dn0"
      }
    },
    {
      "cell_type": "code",
      "source": [
        "# New missing values Count\n",
        "print(f'There are {data.isna().sum().sum()} missing values in the new dataset\\n\\nThe columns which have missing values are:')\n",
        "dfna = data.isna().sum()\n",
        "print(dfna[dfna != 0])"
      ],
      "metadata": {
        "colab": {
          "base_uri": "https://localhost:8080/"
        },
        "id": "RDQ4JNW1yF7y",
        "outputId": "170170d9-081d-401a-dfa2-592ff82e07e3"
      },
      "execution_count": 33,
      "outputs": [
        {
          "output_type": "stream",
          "name": "stdout",
          "text": [
            "There are 36592 missing values in the new dataset\n",
            "\n",
            "The columns which have missing values are:\n",
            "state          421\n",
            "city           434\n",
            "latitude      4556\n",
            "longitude     4557\n",
            "nkill        10313\n",
            "nwound       16311\n",
            "dtype: int64\n"
          ]
        }
      ]
    },
    {
      "cell_type": "code",
      "source": [
        "# Dataset Columns\n",
        "data.columns"
      ],
      "metadata": {
        "id": "j7xfkqrt5Ag5",
        "colab": {
          "base_uri": "https://localhost:8080/"
        },
        "outputId": "cb837bd4-ef1e-4b38-dfe8-ef4b0ca2ec6d"
      },
      "execution_count": 34,
      "outputs": [
        {
          "output_type": "execute_result",
          "data": {
            "text/plain": [
              "Index(['eventid', 'year', 'month', 'day', 'country', 'region', 'state', 'city',\n",
              "       'latitude', 'longitude', 'success', 'suicide', 'attack_type', 'target',\n",
              "       'group', 'weapon_type', 'nkill', 'nwound', 'extended'],\n",
              "      dtype='object')"
            ]
          },
          "metadata": {},
          "execution_count": 34
        }
      ]
    },
    {
      "cell_type": "code",
      "source": [
        "# Dataset Describe\n",
        "data.describe()"
      ],
      "metadata": {
        "id": "DnOaZdaE5Q5t",
        "colab": {
          "base_uri": "https://localhost:8080/",
          "height": 300
        },
        "outputId": "1587d43b-1645-43b4-d506-a83c02be73aa"
      },
      "execution_count": 121,
      "outputs": [
        {
          "output_type": "execute_result",
          "data": {
            "text/plain": [
              "            eventid           year          month            day  \\\n",
              "count  1.816910e+05  181691.000000  181691.000000  181691.000000   \n",
              "mean   2.002705e+11    2002.638997       6.467277      15.505644   \n",
              "std    1.325957e+09      13.259430       3.388303       8.814045   \n",
              "min    1.970000e+11    1970.000000       0.000000       0.000000   \n",
              "25%    1.991021e+11    1991.000000       4.000000       8.000000   \n",
              "50%    2.009022e+11    2009.000000       6.000000      15.000000   \n",
              "75%    2.014081e+11    2014.000000       9.000000      23.000000   \n",
              "max    2.017123e+11    2017.000000      12.000000      31.000000   \n",
              "\n",
              "            latitude     longitude        success        suicide  \\\n",
              "count  177135.000000  1.771340e+05  181691.000000  181691.000000   \n",
              "mean       23.498343 -4.586957e+02       0.889598       0.036507   \n",
              "std        18.569242  2.047790e+05       0.313391       0.187549   \n",
              "min       -53.154613 -8.618590e+07       0.000000       0.000000   \n",
              "25%        11.510046  4.545640e+00       1.000000       0.000000   \n",
              "50%        31.467463  4.324651e+01       1.000000       0.000000   \n",
              "75%        34.685087  6.871033e+01       1.000000       0.000000   \n",
              "max        74.633553  1.793667e+02       1.000000       1.000000   \n",
              "\n",
              "               nkill         nwound       extended  \n",
              "count  171378.000000  165380.000000  181691.000000  \n",
              "mean        2.403272       3.167668       0.045346  \n",
              "std        11.545741      35.949392       0.208063  \n",
              "min         0.000000       0.000000       0.000000  \n",
              "25%         0.000000       0.000000       0.000000  \n",
              "50%         0.000000       0.000000       0.000000  \n",
              "75%         2.000000       2.000000       0.000000  \n",
              "max      1570.000000    8191.000000       1.000000  "
            ],
            "text/html": [
              "\n",
              "\n",
              "  <div id=\"df-8f6ec0f2-d7a2-43df-af24-f9fdb1fed069\">\n",
              "    <div class=\"colab-df-container\">\n",
              "      <div>\n",
              "<style scoped>\n",
              "    .dataframe tbody tr th:only-of-type {\n",
              "        vertical-align: middle;\n",
              "    }\n",
              "\n",
              "    .dataframe tbody tr th {\n",
              "        vertical-align: top;\n",
              "    }\n",
              "\n",
              "    .dataframe thead th {\n",
              "        text-align: right;\n",
              "    }\n",
              "</style>\n",
              "<table border=\"1\" class=\"dataframe\">\n",
              "  <thead>\n",
              "    <tr style=\"text-align: right;\">\n",
              "      <th></th>\n",
              "      <th>eventid</th>\n",
              "      <th>year</th>\n",
              "      <th>month</th>\n",
              "      <th>day</th>\n",
              "      <th>latitude</th>\n",
              "      <th>longitude</th>\n",
              "      <th>success</th>\n",
              "      <th>suicide</th>\n",
              "      <th>nkill</th>\n",
              "      <th>nwound</th>\n",
              "      <th>extended</th>\n",
              "    </tr>\n",
              "  </thead>\n",
              "  <tbody>\n",
              "    <tr>\n",
              "      <th>count</th>\n",
              "      <td>1.816910e+05</td>\n",
              "      <td>181691.000000</td>\n",
              "      <td>181691.000000</td>\n",
              "      <td>181691.000000</td>\n",
              "      <td>177135.000000</td>\n",
              "      <td>1.771340e+05</td>\n",
              "      <td>181691.000000</td>\n",
              "      <td>181691.000000</td>\n",
              "      <td>171378.000000</td>\n",
              "      <td>165380.000000</td>\n",
              "      <td>181691.000000</td>\n",
              "    </tr>\n",
              "    <tr>\n",
              "      <th>mean</th>\n",
              "      <td>2.002705e+11</td>\n",
              "      <td>2002.638997</td>\n",
              "      <td>6.467277</td>\n",
              "      <td>15.505644</td>\n",
              "      <td>23.498343</td>\n",
              "      <td>-4.586957e+02</td>\n",
              "      <td>0.889598</td>\n",
              "      <td>0.036507</td>\n",
              "      <td>2.403272</td>\n",
              "      <td>3.167668</td>\n",
              "      <td>0.045346</td>\n",
              "    </tr>\n",
              "    <tr>\n",
              "      <th>std</th>\n",
              "      <td>1.325957e+09</td>\n",
              "      <td>13.259430</td>\n",
              "      <td>3.388303</td>\n",
              "      <td>8.814045</td>\n",
              "      <td>18.569242</td>\n",
              "      <td>2.047790e+05</td>\n",
              "      <td>0.313391</td>\n",
              "      <td>0.187549</td>\n",
              "      <td>11.545741</td>\n",
              "      <td>35.949392</td>\n",
              "      <td>0.208063</td>\n",
              "    </tr>\n",
              "    <tr>\n",
              "      <th>min</th>\n",
              "      <td>1.970000e+11</td>\n",
              "      <td>1970.000000</td>\n",
              "      <td>0.000000</td>\n",
              "      <td>0.000000</td>\n",
              "      <td>-53.154613</td>\n",
              "      <td>-8.618590e+07</td>\n",
              "      <td>0.000000</td>\n",
              "      <td>0.000000</td>\n",
              "      <td>0.000000</td>\n",
              "      <td>0.000000</td>\n",
              "      <td>0.000000</td>\n",
              "    </tr>\n",
              "    <tr>\n",
              "      <th>25%</th>\n",
              "      <td>1.991021e+11</td>\n",
              "      <td>1991.000000</td>\n",
              "      <td>4.000000</td>\n",
              "      <td>8.000000</td>\n",
              "      <td>11.510046</td>\n",
              "      <td>4.545640e+00</td>\n",
              "      <td>1.000000</td>\n",
              "      <td>0.000000</td>\n",
              "      <td>0.000000</td>\n",
              "      <td>0.000000</td>\n",
              "      <td>0.000000</td>\n",
              "    </tr>\n",
              "    <tr>\n",
              "      <th>50%</th>\n",
              "      <td>2.009022e+11</td>\n",
              "      <td>2009.000000</td>\n",
              "      <td>6.000000</td>\n",
              "      <td>15.000000</td>\n",
              "      <td>31.467463</td>\n",
              "      <td>4.324651e+01</td>\n",
              "      <td>1.000000</td>\n",
              "      <td>0.000000</td>\n",
              "      <td>0.000000</td>\n",
              "      <td>0.000000</td>\n",
              "      <td>0.000000</td>\n",
              "    </tr>\n",
              "    <tr>\n",
              "      <th>75%</th>\n",
              "      <td>2.014081e+11</td>\n",
              "      <td>2014.000000</td>\n",
              "      <td>9.000000</td>\n",
              "      <td>23.000000</td>\n",
              "      <td>34.685087</td>\n",
              "      <td>6.871033e+01</td>\n",
              "      <td>1.000000</td>\n",
              "      <td>0.000000</td>\n",
              "      <td>2.000000</td>\n",
              "      <td>2.000000</td>\n",
              "      <td>0.000000</td>\n",
              "    </tr>\n",
              "    <tr>\n",
              "      <th>max</th>\n",
              "      <td>2.017123e+11</td>\n",
              "      <td>2017.000000</td>\n",
              "      <td>12.000000</td>\n",
              "      <td>31.000000</td>\n",
              "      <td>74.633553</td>\n",
              "      <td>1.793667e+02</td>\n",
              "      <td>1.000000</td>\n",
              "      <td>1.000000</td>\n",
              "      <td>1570.000000</td>\n",
              "      <td>8191.000000</td>\n",
              "      <td>1.000000</td>\n",
              "    </tr>\n",
              "  </tbody>\n",
              "</table>\n",
              "</div>\n",
              "      <button class=\"colab-df-convert\" onclick=\"convertToInteractive('df-8f6ec0f2-d7a2-43df-af24-f9fdb1fed069')\"\n",
              "              title=\"Convert this dataframe to an interactive table.\"\n",
              "              style=\"display:none;\">\n",
              "\n",
              "  <svg xmlns=\"http://www.w3.org/2000/svg\" height=\"24px\"viewBox=\"0 0 24 24\"\n",
              "       width=\"24px\">\n",
              "    <path d=\"M0 0h24v24H0V0z\" fill=\"none\"/>\n",
              "    <path d=\"M18.56 5.44l.94 2.06.94-2.06 2.06-.94-2.06-.94-.94-2.06-.94 2.06-2.06.94zm-11 1L8.5 8.5l.94-2.06 2.06-.94-2.06-.94L8.5 2.5l-.94 2.06-2.06.94zm10 10l.94 2.06.94-2.06 2.06-.94-2.06-.94-.94-2.06-.94 2.06-2.06.94z\"/><path d=\"M17.41 7.96l-1.37-1.37c-.4-.4-.92-.59-1.43-.59-.52 0-1.04.2-1.43.59L10.3 9.45l-7.72 7.72c-.78.78-.78 2.05 0 2.83L4 21.41c.39.39.9.59 1.41.59.51 0 1.02-.2 1.41-.59l7.78-7.78 2.81-2.81c.8-.78.8-2.07 0-2.86zM5.41 20L4 18.59l7.72-7.72 1.47 1.35L5.41 20z\"/>\n",
              "  </svg>\n",
              "      </button>\n",
              "\n",
              "\n",
              "\n",
              "    <div id=\"df-49801b8f-2a01-4df1-b622-80aa2298798b\">\n",
              "      <button class=\"colab-df-quickchart\" onclick=\"quickchart('df-49801b8f-2a01-4df1-b622-80aa2298798b')\"\n",
              "              title=\"Suggest charts.\"\n",
              "              style=\"display:none;\">\n",
              "\n",
              "<svg xmlns=\"http://www.w3.org/2000/svg\" height=\"24px\"viewBox=\"0 0 24 24\"\n",
              "     width=\"24px\">\n",
              "    <g>\n",
              "        <path d=\"M19 3H5c-1.1 0-2 .9-2 2v14c0 1.1.9 2 2 2h14c1.1 0 2-.9 2-2V5c0-1.1-.9-2-2-2zM9 17H7v-7h2v7zm4 0h-2V7h2v10zm4 0h-2v-4h2v4z\"/>\n",
              "    </g>\n",
              "</svg>\n",
              "      </button>\n",
              "    </div>\n",
              "\n",
              "<style>\n",
              "  .colab-df-quickchart {\n",
              "    background-color: #E8F0FE;\n",
              "    border: none;\n",
              "    border-radius: 50%;\n",
              "    cursor: pointer;\n",
              "    display: none;\n",
              "    fill: #1967D2;\n",
              "    height: 32px;\n",
              "    padding: 0 0 0 0;\n",
              "    width: 32px;\n",
              "  }\n",
              "\n",
              "  .colab-df-quickchart:hover {\n",
              "    background-color: #E2EBFA;\n",
              "    box-shadow: 0px 1px 2px rgba(60, 64, 67, 0.3), 0px 1px 3px 1px rgba(60, 64, 67, 0.15);\n",
              "    fill: #174EA6;\n",
              "  }\n",
              "\n",
              "  [theme=dark] .colab-df-quickchart {\n",
              "    background-color: #3B4455;\n",
              "    fill: #D2E3FC;\n",
              "  }\n",
              "\n",
              "  [theme=dark] .colab-df-quickchart:hover {\n",
              "    background-color: #434B5C;\n",
              "    box-shadow: 0px 1px 3px 1px rgba(0, 0, 0, 0.15);\n",
              "    filter: drop-shadow(0px 1px 2px rgba(0, 0, 0, 0.3));\n",
              "    fill: #FFFFFF;\n",
              "  }\n",
              "</style>\n",
              "\n",
              "    <script>\n",
              "      async function quickchart(key) {\n",
              "        const containerElement = document.querySelector('#' + key);\n",
              "        const charts = await google.colab.kernel.invokeFunction(\n",
              "            'suggestCharts', [key], {});\n",
              "      }\n",
              "    </script>\n",
              "\n",
              "      <script>\n",
              "\n",
              "function displayQuickchartButton(domScope) {\n",
              "  let quickchartButtonEl =\n",
              "    domScope.querySelector('#df-49801b8f-2a01-4df1-b622-80aa2298798b button.colab-df-quickchart');\n",
              "  quickchartButtonEl.style.display =\n",
              "    google.colab.kernel.accessAllowed ? 'block' : 'none';\n",
              "}\n",
              "\n",
              "        displayQuickchartButton(document);\n",
              "      </script>\n",
              "      <style>\n",
              "    .colab-df-container {\n",
              "      display:flex;\n",
              "      flex-wrap:wrap;\n",
              "      gap: 12px;\n",
              "    }\n",
              "\n",
              "    .colab-df-convert {\n",
              "      background-color: #E8F0FE;\n",
              "      border: none;\n",
              "      border-radius: 50%;\n",
              "      cursor: pointer;\n",
              "      display: none;\n",
              "      fill: #1967D2;\n",
              "      height: 32px;\n",
              "      padding: 0 0 0 0;\n",
              "      width: 32px;\n",
              "    }\n",
              "\n",
              "    .colab-df-convert:hover {\n",
              "      background-color: #E2EBFA;\n",
              "      box-shadow: 0px 1px 2px rgba(60, 64, 67, 0.3), 0px 1px 3px 1px rgba(60, 64, 67, 0.15);\n",
              "      fill: #174EA6;\n",
              "    }\n",
              "\n",
              "    [theme=dark] .colab-df-convert {\n",
              "      background-color: #3B4455;\n",
              "      fill: #D2E3FC;\n",
              "    }\n",
              "\n",
              "    [theme=dark] .colab-df-convert:hover {\n",
              "      background-color: #434B5C;\n",
              "      box-shadow: 0px 1px 3px 1px rgba(0, 0, 0, 0.15);\n",
              "      filter: drop-shadow(0px 1px 2px rgba(0, 0, 0, 0.3));\n",
              "      fill: #FFFFFF;\n",
              "    }\n",
              "  </style>\n",
              "\n",
              "      <script>\n",
              "        const buttonEl =\n",
              "          document.querySelector('#df-8f6ec0f2-d7a2-43df-af24-f9fdb1fed069 button.colab-df-convert');\n",
              "        buttonEl.style.display =\n",
              "          google.colab.kernel.accessAllowed ? 'block' : 'none';\n",
              "\n",
              "        async function convertToInteractive(key) {\n",
              "          const element = document.querySelector('#df-8f6ec0f2-d7a2-43df-af24-f9fdb1fed069');\n",
              "          const dataTable =\n",
              "            await google.colab.kernel.invokeFunction('convertToInteractive',\n",
              "                                                     [key], {});\n",
              "          if (!dataTable) return;\n",
              "\n",
              "          const docLinkHtml = 'Like what you see? Visit the ' +\n",
              "            '<a target=\"_blank\" href=https://colab.research.google.com/notebooks/data_table.ipynb>data table notebook</a>'\n",
              "            + ' to learn more about interactive tables.';\n",
              "          element.innerHTML = '';\n",
              "          dataTable['output_type'] = 'display_data';\n",
              "          await google.colab.output.renderOutput(dataTable, element);\n",
              "          const docLink = document.createElement('div');\n",
              "          docLink.innerHTML = docLinkHtml;\n",
              "          element.appendChild(docLink);\n",
              "        }\n",
              "      </script>\n",
              "    </div>\n",
              "  </div>\n"
            ]
          },
          "metadata": {},
          "execution_count": 121
        }
      ]
    },
    {
      "cell_type": "markdown",
      "source": [
        "### Variables Description"
      ],
      "metadata": {
        "id": "PBTbrJXOngz2"
      }
    },
    {
      "cell_type": "markdown",
      "source": [
        "The **[Global Terrorism Dataset](https://www.start.umd.edu/gtd/)** (or GTD for short) contains information on approximately 2,00,000 terrorist events across the globe spanning several years. Since the dataset is vast in terms of features for each terrorist event, only select features are considered here for EDA, and only their descriptions are provided below. Detailed description of each feature can be found in this [document](https://drive.google.com/file/d/1TLRkQDyLStykrjifbCqoMNVlXuk3LBAn/view?usp=sharing):\n",
        "\n",
        "![image.png](data:image/png;base64,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)"
      ],
      "metadata": {
        "id": "aJV4KIxSnxay"
      }
    },
    {
      "cell_type": "markdown",
      "source": [
        "### Check Unique Values for each variable."
      ],
      "metadata": {
        "id": "u3PMJOP6ngxN"
      }
    },
    {
      "cell_type": "code",
      "source": [
        "# Check Unique values for primary categorical variables\n",
        "vars = ['year', 'extended', 'country', 'success', 'suicide', 'attack_type', 'target', 'group', 'weapon_type']\n",
        "for var in vars:\n",
        "  to_print = 5\n",
        "  suff = f'etc.. {data[var].nunique()} values' if data[var].nunique() > to_print else ''\n",
        "  print(f'Unique values in \"{var}\" are: {sorted(data[var].unique())[:to_print]} {suff}')"
      ],
      "metadata": {
        "id": "zms12Yq5n-jE",
        "colab": {
          "base_uri": "https://localhost:8080/"
        },
        "outputId": "c41512e8-93de-4a83-800e-a87e3c0fa0ce"
      },
      "execution_count": 122,
      "outputs": [
        {
          "output_type": "stream",
          "name": "stdout",
          "text": [
            "Unique values in \"year\" are: [1970, 1971, 1972, 1973, 1974] etc.. 47 values\n",
            "Unique values in \"extended\" are: [0, 1] \n",
            "Unique values in \"country\" are: ['Afghanistan', 'Albania', 'Algeria', 'Andorra', 'Angola'] etc.. 205 values\n",
            "Unique values in \"success\" are: [0, 1] \n",
            "Unique values in \"suicide\" are: [0, 1] \n",
            "Unique values in \"attack_type\" are: ['Armed Assault', 'Assassination', 'Bombing/Explosion', 'Facility/Infrastructure Attack', 'Hijacking'] etc.. 9 values\n",
            "Unique values in \"target\" are: ['Abortion Related', 'Airports & Aircraft', 'Business', 'Educational Institution', 'Food or Water Supply'] etc.. 22 values\n",
            "Unique values in \"group\" are: ['1 May', '14 K Triad', '14 March Coalition', '14th of December Command', '15th of September Liberation Legion'] etc.. 3537 values\n",
            "Unique values in \"weapon_type\" are: ['Biological', 'Chemical', 'Explosives', 'Fake Weapons', 'Firearms'] etc.. 12 values\n"
          ]
        }
      ]
    },
    {
      "cell_type": "markdown",
      "source": [
        "It can be roughly observed that the dataset contains information of terrorist attacks\n",
        "* from **1970 to 2017**\n",
        "* of **3537** distinct **organisations**\n",
        "* using **various methods of attack** (such as **Bombing** and **Hijacking**)\n",
        "* and a variety of **weapons** (such as **Explosives** and **Firearms**).\n",
        "* The organisations also had quite a range of **targets** from **Airports** to **Educational Institutions**, some of them involving suicide attacks."
      ],
      "metadata": {
        "id": "kNCphP9q9O_W"
      }
    },
    {
      "cell_type": "markdown",
      "source": [
        "## **3. Data Wrangling**"
      ],
      "metadata": {
        "id": "dauF4eBmngu3"
      }
    },
    {
      "cell_type": "markdown",
      "source": [
        "Part of **Data Wrangling** has already been performed in the previous section in order to trim down the large number of variables. In this section, (FILL)"
      ],
      "metadata": {
        "id": "iRjN7q6zGgci"
      }
    },
    {
      "cell_type": "markdown",
      "source": [
        "### 1. Handling missing values"
      ],
      "metadata": {
        "id": "V9azZ6r6Y9AC"
      }
    },
    {
      "cell_type": "markdown",
      "source": [
        "*   As stated earlier, the dataset is segregated into two - **primary** and **secondary** features. Out of the total 19 columns, 6 are secondary and has been selected as a reference which may be useful only for a secondary EDA, and not primarily. Hence, none of the missing values from the secondary columns have to be imputed, which preserves data.\n",
        "*  Hence, out of the 6 columns which contain missing values, only two are left which are primary variables - viz., **nkill** and **nwound**."
      ],
      "metadata": {
        "id": "Ne_P_0unT2mv"
      }
    },
    {
      "cell_type": "code",
      "source": [
        "print('Missing values in nkill and nwound:')\n",
        "print(data[['nkill', 'nwound']].isna().sum())\n",
        "\n",
        "tot_rows = data.shape[0]\n",
        "n_rows = data.dropna(subset = ['nkill', 'nwound']).shape[0]\n",
        "print('\\nNumber of rows of data lost on dropping these null values:', end = ' ')\n",
        "print(f'{tot_rows - n_rows} or {round((tot_rows - n_rows)*100/tot_rows, 2)}%')"
      ],
      "metadata": {
        "colab": {
          "base_uri": "https://localhost:8080/"
        },
        "id": "iExaoNBoV71J",
        "outputId": "5459744c-929b-44b5-9b57-d49186ee298f"
      },
      "execution_count": 35,
      "outputs": [
        {
          "output_type": "stream",
          "name": "stdout",
          "text": [
            "Missing values in nkill and nwound:\n",
            "nkill     10313\n",
            "nwound    16311\n",
            "dtype: int64\n",
            "\n",
            "Number of rows of data lost on dropping these null values: 16874 or 9.29%\n"
          ]
        }
      ]
    },
    {
      "cell_type": "code",
      "source": [
        "# # Plotting number of terrorist events after dropping NA of nkill and nwound\n",
        "# plt.figure(figsize = (11,6))\n",
        "# data['year'].value_counts().sort_index().plot(label = 'With NA of nkill and nwounded', marker = 'o', markersize = 3)\n",
        "# data.dropna(subset = ['nkill', 'nwound'])['year'].value_counts().sort_index().plot(label = 'Dropping NA of nkill and nwounded', marker = 'o', markersize = 3)\n",
        "# plt.legend()\n",
        "# plt.xlabel('Year')\n",
        "# plt.ylabel('Number of terrorist events')\n",
        "# plt.show()\n",
        "\n",
        "def line_plots(num_plots, to_plot_dfs, titles, names = [None]):\n",
        "  to_plot = []\n",
        "  for i in range(num_plots):\n",
        "    to_plot.append(go.Scatter(x = to_plot_dfs[i].index, y = to_plot_dfs[i].values, mode = 'lines+markers', marker = dict(symbol = 'circle', size = 8), name = names[i]))\n",
        "  fig = go.Figure(data = to_plot)\n",
        "  fig.update_layout(title = titles[0], xaxis_title = titles[1], yaxis_title = titles[2], autosize = False, width = 1100, height = 600)\n",
        "  fig.show()\n",
        "\n",
        "to_plot = [data['year'].value_counts().sort_index(), data.dropna(subset = ['nkill', 'nwound'])['year'].value_counts().sort_index()]\n",
        "legends = ['With NA of nkill and nwounded', 'Dropping NA of nkill and nwounded']\n",
        "titles = ['Terrorist events with time - dropping and keeping NA values of nkill and nwound', 'Year', 'Number of events']\n",
        "line_plots(2, to_plot, titles, legends)"
      ],
      "metadata": {
        "colab": {
          "base_uri": "https://localhost:8080/",
          "height": 617
        },
        "id": "TheVaWBIsUli",
        "outputId": "f9b1710c-10e7-498c-f417-93ed9a6ed8c3"
      },
      "execution_count": 83,
      "outputs": [
        {
          "output_type": "display_data",
          "data": {
            "text/html": [
              "<html>\n",
              "<head><meta charset=\"utf-8\" /></head>\n",
              "<body>\n",
              "    <div>            <script src=\"https://cdnjs.cloudflare.com/ajax/libs/mathjax/2.7.5/MathJax.js?config=TeX-AMS-MML_SVG\"></script><script type=\"text/javascript\">if (window.MathJax && window.MathJax.Hub && window.MathJax.Hub.Config) {window.MathJax.Hub.Config({SVG: {font: \"STIX-Web\"}});}</script>                <script type=\"text/javascript\">window.PlotlyConfig = {MathJaxConfig: 'local'};</script>\n",
              "        <script src=\"https://cdn.plot.ly/plotly-2.18.2.min.js\"></script>                <div id=\"50c7540b-346b-45cc-a194-3c546ca97a29\" class=\"plotly-graph-div\" style=\"height:600px; width:1100px;\"></div>            <script type=\"text/javascript\">                                    window.PLOTLYENV=window.PLOTLYENV || {};                                    if (document.getElementById(\"50c7540b-346b-45cc-a194-3c546ca97a29\")) {                    Plotly.newPlot(                        \"50c7540b-346b-45cc-a194-3c546ca97a29\",                        [{\"marker\":{\"size\":8,\"symbol\":\"circle\"},\"mode\":\"lines+markers\",\"name\":\"With NA of nkill and nwounded\",\"x\":[1970,1971,1972,1973,1974,1975,1976,1977,1978,1979,1980,1981,1982,1983,1984,1985,1986,1987,1988,1989,1990,1991,1992,1994,1995,1996,1997,1998,1999,2000,2001,2002,2003,2004,2005,2006,2007,2008,2009,2010,2011,2012,2013,2014,2015,2016,2017],\"y\":[651,471,568,473,581,740,923,1319,1526,2662,2662,2586,2544,2870,3495,2915,2860,3183,3721,4324,3887,4683,5071,3456,3081,3058,3197,934,1395,1814,1906,1333,1278,1166,2017,2758,3242,4805,4721,4826,5076,8522,12036,16903,14965,13587,10900],\"type\":\"scatter\"},{\"marker\":{\"size\":8,\"symbol\":\"circle\"},\"mode\":\"lines+markers\",\"name\":\"Dropping NA of nkill and nwounded\",\"x\":[1970,1971,1972,1973,1974,1975,1976,1977,1978,1979,1980,1981,1982,1983,1984,1985,1986,1987,1988,1989,1990,1991,1992,1994,1995,1996,1997,1998,1999,2000,2001,2002,2003,2004,2005,2006,2007,2008,2009,2010,2011,2012,2013,2014,2015,2016,2017],\"y\":[598,326,241,244,347,395,618,1100,1297,2198,2121,1879,1655,1806,2769,2423,2420,3036,3657,4283,3867,4574,5034,3297,3058,2935,2994,782,1281,1644,1797,1246,1174,1050,1871,2541,2993,4628,4622,4796,4971,8144,11436,14997,13443,12352,9877],\"type\":\"scatter\"}],                        {\"template\":{\"data\":{\"histogram2dcontour\":[{\"type\":\"histogram2dcontour\",\"colorbar\":{\"outlinewidth\":0,\"ticks\":\"\"},\"colorscale\":[[0.0,\"#0d0887\"],[0.1111111111111111,\"#46039f\"],[0.2222222222222222,\"#7201a8\"],[0.3333333333333333,\"#9c179e\"],[0.4444444444444444,\"#bd3786\"],[0.5555555555555556,\"#d8576b\"],[0.6666666666666666,\"#ed7953\"],[0.7777777777777778,\"#fb9f3a\"],[0.8888888888888888,\"#fdca26\"],[1.0,\"#f0f921\"]]}],\"choropleth\":[{\"type\":\"choropleth\",\"colorbar\":{\"outlinewidth\":0,\"ticks\":\"\"}}],\"histogram2d\":[{\"type\":\"histogram2d\",\"colorbar\":{\"outlinewidth\":0,\"ticks\":\"\"},\"colorscale\":[[0.0,\"#0d0887\"],[0.1111111111111111,\"#46039f\"],[0.2222222222222222,\"#7201a8\"],[0.3333333333333333,\"#9c179e\"],[0.4444444444444444,\"#bd3786\"],[0.5555555555555556,\"#d8576b\"],[0.6666666666666666,\"#ed7953\"],[0.7777777777777778,\"#fb9f3a\"],[0.8888888888888888,\"#fdca26\"],[1.0,\"#f0f921\"]]}],\"heatmap\":[{\"type\":\"heatmap\",\"colorbar\":{\"outlinewidth\":0,\"ticks\":\"\"},\"colorscale\":[[0.0,\"#0d0887\"],[0.1111111111111111,\"#46039f\"],[0.2222222222222222,\"#7201a8\"],[0.3333333333333333,\"#9c179e\"],[0.4444444444444444,\"#bd3786\"],[0.5555555555555556,\"#d8576b\"],[0.6666666666666666,\"#ed7953\"],[0.7777777777777778,\"#fb9f3a\"],[0.8888888888888888,\"#fdca26\"],[1.0,\"#f0f921\"]]}],\"heatmapgl\":[{\"type\":\"heatmapgl\",\"colorbar\":{\"outlinewidth\":0,\"ticks\":\"\"},\"colorscale\":[[0.0,\"#0d0887\"],[0.1111111111111111,\"#46039f\"],[0.2222222222222222,\"#7201a8\"],[0.3333333333333333,\"#9c179e\"],[0.4444444444444444,\"#bd3786\"],[0.5555555555555556,\"#d8576b\"],[0.6666666666666666,\"#ed7953\"],[0.7777777777777778,\"#fb9f3a\"],[0.8888888888888888,\"#fdca26\"],[1.0,\"#f0f921\"]]}],\"contourcarpet\":[{\"type\":\"contourcarpet\",\"colorbar\":{\"outlinewidth\":0,\"ticks\":\"\"}}],\"contour\":[{\"type\":\"contour\",\"colorbar\":{\"outlinewidth\":0,\"ticks\":\"\"},\"colorscale\":[[0.0,\"#0d0887\"],[0.1111111111111111,\"#46039f\"],[0.2222222222222222,\"#7201a8\"],[0.3333333333333333,\"#9c179e\"],[0.4444444444444444,\"#bd3786\"],[0.5555555555555556,\"#d8576b\"],[0.6666666666666666,\"#ed7953\"],[0.7777777777777778,\"#fb9f3a\"],[0.8888888888888888,\"#fdca26\"],[1.0,\"#f0f921\"]]}],\"surface\":[{\"type\":\"surface\",\"colorbar\":{\"outlinewidth\":0,\"ticks\":\"\"},\"colorscale\":[[0.0,\"#0d0887\"],[0.1111111111111111,\"#46039f\"],[0.2222222222222222,\"#7201a8\"],[0.3333333333333333,\"#9c179e\"],[0.4444444444444444,\"#bd3786\"],[0.5555555555555556,\"#d8576b\"],[0.6666666666666666,\"#ed7953\"],[0.7777777777777778,\"#fb9f3a\"],[0.8888888888888888,\"#fdca26\"],[1.0,\"#f0f921\"]]}],\"mesh3d\":[{\"type\":\"mesh3d\",\"colorbar\":{\"outlinewidth\":0,\"ticks\":\"\"}}],\"scatter\":[{\"fillpattern\":{\"fillmode\":\"overlay\",\"size\":10,\"solidity\":0.2},\"type\":\"scatter\"}],\"parcoords\":[{\"type\":\"parcoords\",\"line\":{\"colorbar\":{\"outlinewidth\":0,\"ticks\":\"\"}}}],\"scatterpolargl\":[{\"type\":\"scatterpolargl\",\"marker\":{\"colorbar\":{\"outlinewidth\":0,\"ticks\":\"\"}}}],\"bar\":[{\"error_x\":{\"color\":\"#2a3f5f\"},\"error_y\":{\"color\":\"#2a3f5f\"},\"marker\":{\"line\":{\"color\":\"#E5ECF6\",\"width\":0.5},\"pattern\":{\"fillmode\":\"overlay\",\"size\":10,\"solidity\":0.2}},\"type\":\"bar\"}],\"scattergeo\":[{\"type\":\"scattergeo\",\"marker\":{\"colorbar\":{\"outlinewidth\":0,\"ticks\":\"\"}}}],\"scatterpolar\":[{\"type\":\"scatterpolar\",\"marker\":{\"colorbar\":{\"outlinewidth\":0,\"ticks\":\"\"}}}],\"histogram\":[{\"marker\":{\"pattern\":{\"fillmode\":\"overlay\",\"size\":10,\"solidity\":0.2}},\"type\":\"histogram\"}],\"scattergl\":[{\"type\":\"scattergl\",\"marker\":{\"colorbar\":{\"outlinewidth\":0,\"ticks\":\"\"}}}],\"scatter3d\":[{\"type\":\"scatter3d\",\"line\":{\"colorbar\":{\"outlinewidth\":0,\"ticks\":\"\"}},\"marker\":{\"colorbar\":{\"outlinewidth\":0,\"ticks\":\"\"}}}],\"scattermapbox\":[{\"type\":\"scattermapbox\",\"marker\":{\"colorbar\":{\"outlinewidth\":0,\"ticks\":\"\"}}}],\"scatterternary\":[{\"type\":\"scatterternary\",\"marker\":{\"colorbar\":{\"outlinewidth\":0,\"ticks\":\"\"}}}],\"scattercarpet\":[{\"type\":\"scattercarpet\",\"marker\":{\"colorbar\":{\"outlinewidth\":0,\"ticks\":\"\"}}}],\"carpet\":[{\"aaxis\":{\"endlinecolor\":\"#2a3f5f\",\"gridcolor\":\"white\",\"linecolor\":\"white\",\"minorgridcolor\":\"white\",\"startlinecolor\":\"#2a3f5f\"},\"baxis\":{\"endlinecolor\":\"#2a3f5f\",\"gridcolor\":\"white\",\"linecolor\":\"white\",\"minorgridcolor\":\"white\",\"startlinecolor\":\"#2a3f5f\"},\"type\":\"carpet\"}],\"table\":[{\"cells\":{\"fill\":{\"color\":\"#EBF0F8\"},\"line\":{\"color\":\"white\"}},\"header\":{\"fill\":{\"color\":\"#C8D4E3\"},\"line\":{\"color\":\"white\"}},\"type\":\"table\"}],\"barpolar\":[{\"marker\":{\"line\":{\"color\":\"#E5ECF6\",\"width\":0.5},\"pattern\":{\"fillmode\":\"overlay\",\"size\":10,\"solidity\":0.2}},\"type\":\"barpolar\"}],\"pie\":[{\"automargin\":true,\"type\":\"pie\"}]},\"layout\":{\"autotypenumbers\":\"strict\",\"colorway\":[\"#636efa\",\"#EF553B\",\"#00cc96\",\"#ab63fa\",\"#FFA15A\",\"#19d3f3\",\"#FF6692\",\"#B6E880\",\"#FF97FF\",\"#FECB52\"],\"font\":{\"color\":\"#2a3f5f\"},\"hovermode\":\"closest\",\"hoverlabel\":{\"align\":\"left\"},\"paper_bgcolor\":\"white\",\"plot_bgcolor\":\"#E5ECF6\",\"polar\":{\"bgcolor\":\"#E5ECF6\",\"angularaxis\":{\"gridcolor\":\"white\",\"linecolor\":\"white\",\"ticks\":\"\"},\"radialaxis\":{\"gridcolor\":\"white\",\"linecolor\":\"white\",\"ticks\":\"\"}},\"ternary\":{\"bgcolor\":\"#E5ECF6\",\"aaxis\":{\"gridcolor\":\"white\",\"linecolor\":\"white\",\"ticks\":\"\"},\"baxis\":{\"gridcolor\":\"white\",\"linecolor\":\"white\",\"ticks\":\"\"},\"caxis\":{\"gridcolor\":\"white\",\"linecolor\":\"white\",\"ticks\":\"\"}},\"coloraxis\":{\"colorbar\":{\"outlinewidth\":0,\"ticks\":\"\"}},\"colorscale\":{\"sequential\":[[0.0,\"#0d0887\"],[0.1111111111111111,\"#46039f\"],[0.2222222222222222,\"#7201a8\"],[0.3333333333333333,\"#9c179e\"],[0.4444444444444444,\"#bd3786\"],[0.5555555555555556,\"#d8576b\"],[0.6666666666666666,\"#ed7953\"],[0.7777777777777778,\"#fb9f3a\"],[0.8888888888888888,\"#fdca26\"],[1.0,\"#f0f921\"]],\"sequentialminus\":[[0.0,\"#0d0887\"],[0.1111111111111111,\"#46039f\"],[0.2222222222222222,\"#7201a8\"],[0.3333333333333333,\"#9c179e\"],[0.4444444444444444,\"#bd3786\"],[0.5555555555555556,\"#d8576b\"],[0.6666666666666666,\"#ed7953\"],[0.7777777777777778,\"#fb9f3a\"],[0.8888888888888888,\"#fdca26\"],[1.0,\"#f0f921\"]],\"diverging\":[[0,\"#8e0152\"],[0.1,\"#c51b7d\"],[0.2,\"#de77ae\"],[0.3,\"#f1b6da\"],[0.4,\"#fde0ef\"],[0.5,\"#f7f7f7\"],[0.6,\"#e6f5d0\"],[0.7,\"#b8e186\"],[0.8,\"#7fbc41\"],[0.9,\"#4d9221\"],[1,\"#276419\"]]},\"xaxis\":{\"gridcolor\":\"white\",\"linecolor\":\"white\",\"ticks\":\"\",\"title\":{\"standoff\":15},\"zerolinecolor\":\"white\",\"automargin\":true,\"zerolinewidth\":2},\"yaxis\":{\"gridcolor\":\"white\",\"linecolor\":\"white\",\"ticks\":\"\",\"title\":{\"standoff\":15},\"zerolinecolor\":\"white\",\"automargin\":true,\"zerolinewidth\":2},\"scene\":{\"xaxis\":{\"backgroundcolor\":\"#E5ECF6\",\"gridcolor\":\"white\",\"linecolor\":\"white\",\"showbackground\":true,\"ticks\":\"\",\"zerolinecolor\":\"white\",\"gridwidth\":2},\"yaxis\":{\"backgroundcolor\":\"#E5ECF6\",\"gridcolor\":\"white\",\"linecolor\":\"white\",\"showbackground\":true,\"ticks\":\"\",\"zerolinecolor\":\"white\",\"gridwidth\":2},\"zaxis\":{\"backgroundcolor\":\"#E5ECF6\",\"gridcolor\":\"white\",\"linecolor\":\"white\",\"showbackground\":true,\"ticks\":\"\",\"zerolinecolor\":\"white\",\"gridwidth\":2}},\"shapedefaults\":{\"line\":{\"color\":\"#2a3f5f\"}},\"annotationdefaults\":{\"arrowcolor\":\"#2a3f5f\",\"arrowhead\":0,\"arrowwidth\":1},\"geo\":{\"bgcolor\":\"white\",\"landcolor\":\"#E5ECF6\",\"subunitcolor\":\"white\",\"showland\":true,\"showlakes\":true,\"lakecolor\":\"white\"},\"title\":{\"x\":0.05},\"mapbox\":{\"style\":\"light\"}}},\"title\":{\"text\":\"Terrorist events with time - dropping and keeping NA values of nkill and nwound\"},\"xaxis\":{\"title\":{\"text\":\"Year\"}},\"yaxis\":{\"title\":{\"text\":\"Number of events\"}},\"autosize\":false,\"width\":1100,\"height\":600},                        {\"responsive\": true}                    ).then(function(){\n",
              "                            \n",
              "var gd = document.getElementById('50c7540b-346b-45cc-a194-3c546ca97a29');\n",
              "var x = new MutationObserver(function (mutations, observer) {{\n",
              "        var display = window.getComputedStyle(gd).display;\n",
              "        if (!display || display === 'none') {{\n",
              "            console.log([gd, 'removed!']);\n",
              "            Plotly.purge(gd);\n",
              "            observer.disconnect();\n",
              "        }}\n",
              "}});\n",
              "\n",
              "// Listen for the removal of the full notebook cells\n",
              "var notebookContainer = gd.closest('#notebook-container');\n",
              "if (notebookContainer) {{\n",
              "    x.observe(notebookContainer, {childList: true});\n",
              "}}\n",
              "\n",
              "// Listen for the clearing of the current output cell\n",
              "var outputEl = gd.closest('.output');\n",
              "if (outputEl) {{\n",
              "    x.observe(outputEl, {childList: true});\n",
              "}}\n",
              "\n",
              "                        })                };                            </script>        </div>\n",
              "</body>\n",
              "</html>"
            ]
          },
          "metadata": {}
        }
      ]
    },
    {
      "cell_type": "markdown",
      "source": [
        "*   It can be seen that there is signifcant loss of data on dropping the null values of **nkill** and **nwound** (~9.3%) which is also reflected in a drop of terrorist activities across each year.\n",
        "*   Since each row in the dataset corresponds to a terrorist event, any loss of information will have crucial effects in the analysis. Also, imputation of these missing values with any other value does not seem logical since (as per the document linked) \"***this field remains blank when the figure is not reported or it is too vague to be of use***\"\n",
        "*   Hence, these null values shall not be dropped or tampered with, and the entire dataset will be used whenever **nkill** and **nwound** are not included for analysis, while these null values will be ignored when the same 2 variables will be used for EDA."
      ],
      "metadata": {
        "id": "D0GS743PXWiJ"
      }
    },
    {
      "cell_type": "markdown",
      "source": [
        "### Data Wrangling Code"
      ],
      "metadata": {
        "id": "bKJF3rekwFvQ"
      }
    },
    {
      "cell_type": "code",
      "source": [
        "# Write your code to make your dataset analysis ready."
      ],
      "metadata": {
        "id": "wk-9a2fpoLcV"
      },
      "execution_count": null,
      "outputs": []
    },
    {
      "cell_type": "markdown",
      "source": [
        "### What all manipulations have you done and insights you found?"
      ],
      "metadata": {
        "id": "MSa1f5Uengrz"
      }
    },
    {
      "cell_type": "markdown",
      "source": [
        "Answer Here."
      ],
      "metadata": {
        "id": "LbyXE7I1olp8"
      }
    },
    {
      "cell_type": "markdown",
      "source": [
        "## **4. Data Vizualization, Storytelling & Experimenting with charts : Understand the relationships between variables**"
      ],
      "metadata": {
        "id": "GF8Ens_Soomf"
      }
    },
    {
      "cell_type": "code",
      "source": [
        "plt.figure(figsize = (11,6))\n",
        "data['year'].value_counts().sort_index().plot(marker = 'o', markersize = 3)\n",
        "plt.xlabel('Year')\n",
        "plt.ylabel('Number of terrorist events')\n",
        "plt.show()"
      ],
      "metadata": {
        "colab": {
          "base_uri": "https://localhost:8080/",
          "height": 551
        },
        "id": "U9IhaCyNKb1I",
        "outputId": "6d6886b5-a400-44b0-834c-d450a7842fc0"
      },
      "execution_count": 84,
      "outputs": [
        {
          "output_type": "display_data",
          "data": {
            "text/plain": [
              "<Figure size 1100x600 with 1 Axes>"
            ],
            "image/png": "[encoded data removed]"
          },
          "metadata": {}
        }
      ]
    },
    {
      "cell_type": "code",
      "source": [
        "yearly_df = data['year'].value_counts().sort_index()\n",
        "titles = ['Terrorist events with time', 'Year', 'Number of events']\n",
        "line_plots(1, [yearly_df], titles)"
      ],
      "metadata": {
        "colab": {
          "base_uri": "https://localhost:8080/",
          "height": 617
        },
        "id": "A9-Tl-ySLenS",
        "outputId": "753d2f0f-6d96-4a75-a3f3-22abda5c2baa"
      },
      "execution_count": 85,
      "outputs": [
        {
          "output_type": "display_data",
          "data": {
            "text/html": [
              "<html>\n",
              "<head><meta charset=\"utf-8\" /></head>\n",
              "<body>\n",
              "    <div>            <script src=\"https://cdnjs.cloudflare.com/ajax/libs/mathjax/2.7.5/MathJax.js?config=TeX-AMS-MML_SVG\"></script><script type=\"text/javascript\">if (window.MathJax && window.MathJax.Hub && window.MathJax.Hub.Config) {window.MathJax.Hub.Config({SVG: {font: \"STIX-Web\"}});}</script>                <script type=\"text/javascript\">window.PlotlyConfig = {MathJaxConfig: 'local'};</script>\n",
              "        <script src=\"https://cdn.plot.ly/plotly-2.18.2.min.js\"></script>                <div id=\"15e8b81a-e005-4b4c-bc98-8a55deb3e899\" class=\"plotly-graph-div\" style=\"height:600px; width:1100px;\"></div>            <script type=\"text/javascript\">                                    window.PLOTLYENV=window.PLOTLYENV || {};                                    if (document.getElementById(\"15e8b81a-e005-4b4c-bc98-8a55deb3e899\")) {                    Plotly.newPlot(                        \"15e8b81a-e005-4b4c-bc98-8a55deb3e899\",                        [{\"marker\":{\"size\":8,\"symbol\":\"circle\"},\"mode\":\"lines+markers\",\"x\":[1970,1971,1972,1973,1974,1975,1976,1977,1978,1979,1980,1981,1982,1983,1984,1985,1986,1987,1988,1989,1990,1991,1992,1994,1995,1996,1997,1998,1999,2000,2001,2002,2003,2004,2005,2006,2007,2008,2009,2010,2011,2012,2013,2014,2015,2016,2017],\"y\":[651,471,568,473,581,740,923,1319,1526,2662,2662,2586,2544,2870,3495,2915,2860,3183,3721,4324,3887,4683,5071,3456,3081,3058,3197,934,1395,1814,1906,1333,1278,1166,2017,2758,3242,4805,4721,4826,5076,8522,12036,16903,14965,13587,10900],\"type\":\"scatter\"}],                        {\"template\":{\"data\":{\"histogram2dcontour\":[{\"type\":\"histogram2dcontour\",\"colorbar\":{\"outlinewidth\":0,\"ticks\":\"\"},\"colorscale\":[[0.0,\"#0d0887\"],[0.1111111111111111,\"#46039f\"],[0.2222222222222222,\"#7201a8\"],[0.3333333333333333,\"#9c179e\"],[0.4444444444444444,\"#bd3786\"],[0.5555555555555556,\"#d8576b\"],[0.6666666666666666,\"#ed7953\"],[0.7777777777777778,\"#fb9f3a\"],[0.8888888888888888,\"#fdca26\"],[1.0,\"#f0f921\"]]}],\"choropleth\":[{\"type\":\"choropleth\",\"colorbar\":{\"outlinewidth\":0,\"ticks\":\"\"}}],\"histogram2d\":[{\"type\":\"histogram2d\",\"colorbar\":{\"outlinewidth\":0,\"ticks\":\"\"},\"colorscale\":[[0.0,\"#0d0887\"],[0.1111111111111111,\"#46039f\"],[0.2222222222222222,\"#7201a8\"],[0.3333333333333333,\"#9c179e\"],[0.4444444444444444,\"#bd3786\"],[0.5555555555555556,\"#d8576b\"],[0.6666666666666666,\"#ed7953\"],[0.7777777777777778,\"#fb9f3a\"],[0.8888888888888888,\"#fdca26\"],[1.0,\"#f0f921\"]]}],\"heatmap\":[{\"type\":\"heatmap\",\"colorbar\":{\"outlinewidth\":0,\"ticks\":\"\"},\"colorscale\":[[0.0,\"#0d0887\"],[0.1111111111111111,\"#46039f\"],[0.2222222222222222,\"#7201a8\"],[0.3333333333333333,\"#9c179e\"],[0.4444444444444444,\"#bd3786\"],[0.5555555555555556,\"#d8576b\"],[0.6666666666666666,\"#ed7953\"],[0.7777777777777778,\"#fb9f3a\"],[0.8888888888888888,\"#fdca26\"],[1.0,\"#f0f921\"]]}],\"heatmapgl\":[{\"type\":\"heatmapgl\",\"colorbar\":{\"outlinewidth\":0,\"ticks\":\"\"},\"colorscale\":[[0.0,\"#0d0887\"],[0.1111111111111111,\"#46039f\"],[0.2222222222222222,\"#7201a8\"],[0.3333333333333333,\"#9c179e\"],[0.4444444444444444,\"#bd3786\"],[0.5555555555555556,\"#d8576b\"],[0.6666666666666666,\"#ed7953\"],[0.7777777777777778,\"#fb9f3a\"],[0.8888888888888888,\"#fdca26\"],[1.0,\"#f0f921\"]]}],\"contourcarpet\":[{\"type\":\"contourcarpet\",\"colorbar\":{\"outlinewidth\":0,\"ticks\":\"\"}}],\"contour\":[{\"type\":\"contour\",\"colorbar\":{\"outlinewidth\":0,\"ticks\":\"\"},\"colorscale\":[[0.0,\"#0d0887\"],[0.1111111111111111,\"#46039f\"],[0.2222222222222222,\"#7201a8\"],[0.3333333333333333,\"#9c179e\"],[0.4444444444444444,\"#bd3786\"],[0.5555555555555556,\"#d8576b\"],[0.6666666666666666,\"#ed7953\"],[0.7777777777777778,\"#fb9f3a\"],[0.8888888888888888,\"#fdca26\"],[1.0,\"#f0f921\"]]}],\"surface\":[{\"type\":\"surface\",\"colorbar\":{\"outlinewidth\":0,\"ticks\":\"\"},\"colorscale\":[[0.0,\"#0d0887\"],[0.1111111111111111,\"#46039f\"],[0.2222222222222222,\"#7201a8\"],[0.3333333333333333,\"#9c179e\"],[0.4444444444444444,\"#bd3786\"],[0.5555555555555556,\"#d8576b\"],[0.6666666666666666,\"#ed7953\"],[0.7777777777777778,\"#fb9f3a\"],[0.8888888888888888,\"#fdca26\"],[1.0,\"#f0f921\"]]}],\"mesh3d\":[{\"type\":\"mesh3d\",\"colorbar\":{\"outlinewidth\":0,\"ticks\":\"\"}}],\"scatter\":[{\"fillpattern\":{\"fillmode\":\"overlay\",\"size\":10,\"solidity\":0.2},\"type\":\"scatter\"}],\"parcoords\":[{\"type\":\"parcoords\",\"line\":{\"colorbar\":{\"outlinewidth\":0,\"ticks\":\"\"}}}],\"scatterpolargl\":[{\"type\":\"scatterpolargl\",\"marker\":{\"colorbar\":{\"outlinewidth\":0,\"ticks\":\"\"}}}],\"bar\":[{\"error_x\":{\"color\":\"#2a3f5f\"},\"error_y\":{\"color\":\"#2a3f5f\"},\"marker\":{\"line\":{\"color\":\"#E5ECF6\",\"width\":0.5},\"pattern\":{\"fillmode\":\"overlay\",\"size\":10,\"solidity\":0.2}},\"type\":\"bar\"}],\"scattergeo\":[{\"type\":\"scattergeo\",\"marker\":{\"colorbar\":{\"outlinewidth\":0,\"ticks\":\"\"}}}],\"scatterpolar\":[{\"type\":\"scatterpolar\",\"marker\":{\"colorbar\":{\"outlinewidth\":0,\"ticks\":\"\"}}}],\"histogram\":[{\"marker\":{\"pattern\":{\"fillmode\":\"overlay\",\"size\":10,\"solidity\":0.2}},\"type\":\"histogram\"}],\"scattergl\":[{\"type\":\"scattergl\",\"marker\":{\"colorbar\":{\"outlinewidth\":0,\"ticks\":\"\"}}}],\"scatter3d\":[{\"type\":\"scatter3d\",\"line\":{\"colorbar\":{\"outlinewidth\":0,\"ticks\":\"\"}},\"marker\":{\"colorbar\":{\"outlinewidth\":0,\"ticks\":\"\"}}}],\"scattermapbox\":[{\"type\":\"scattermapbox\",\"marker\":{\"colorbar\":{\"outlinewidth\":0,\"ticks\":\"\"}}}],\"scatterternary\":[{\"type\":\"scatterternary\",\"marker\":{\"colorbar\":{\"outlinewidth\":0,\"ticks\":\"\"}}}],\"scattercarpet\":[{\"type\":\"scattercarpet\",\"marker\":{\"colorbar\":{\"outlinewidth\":0,\"ticks\":\"\"}}}],\"carpet\":[{\"aaxis\":{\"endlinecolor\":\"#2a3f5f\",\"gridcolor\":\"white\",\"linecolor\":\"white\",\"minorgridcolor\":\"white\",\"startlinecolor\":\"#2a3f5f\"},\"baxis\":{\"endlinecolor\":\"#2a3f5f\",\"gridcolor\":\"white\",\"linecolor\":\"white\",\"minorgridcolor\":\"white\",\"startlinecolor\":\"#2a3f5f\"},\"type\":\"carpet\"}],\"table\":[{\"cells\":{\"fill\":{\"color\":\"#EBF0F8\"},\"line\":{\"color\":\"white\"}},\"header\":{\"fill\":{\"color\":\"#C8D4E3\"},\"line\":{\"color\":\"white\"}},\"type\":\"table\"}],\"barpolar\":[{\"marker\":{\"line\":{\"color\":\"#E5ECF6\",\"width\":0.5},\"pattern\":{\"fillmode\":\"overlay\",\"size\":10,\"solidity\":0.2}},\"type\":\"barpolar\"}],\"pie\":[{\"automargin\":true,\"type\":\"pie\"}]},\"layout\":{\"autotypenumbers\":\"strict\",\"colorway\":[\"#636efa\",\"#EF553B\",\"#00cc96\",\"#ab63fa\",\"#FFA15A\",\"#19d3f3\",\"#FF6692\",\"#B6E880\",\"#FF97FF\",\"#FECB52\"],\"font\":{\"color\":\"#2a3f5f\"},\"hovermode\":\"closest\",\"hoverlabel\":{\"align\":\"left\"},\"paper_bgcolor\":\"white\",\"plot_bgcolor\":\"#E5ECF6\",\"polar\":{\"bgcolor\":\"#E5ECF6\",\"angularaxis\":{\"gridcolor\":\"white\",\"linecolor\":\"white\",\"ticks\":\"\"},\"radialaxis\":{\"gridcolor\":\"white\",\"linecolor\":\"white\",\"ticks\":\"\"}},\"ternary\":{\"bgcolor\":\"#E5ECF6\",\"aaxis\":{\"gridcolor\":\"white\",\"linecolor\":\"white\",\"ticks\":\"\"},\"baxis\":{\"gridcolor\":\"white\",\"linecolor\":\"white\",\"ticks\":\"\"},\"caxis\":{\"gridcolor\":\"white\",\"linecolor\":\"white\",\"ticks\":\"\"}},\"coloraxis\":{\"colorbar\":{\"outlinewidth\":0,\"ticks\":\"\"}},\"colorscale\":{\"sequential\":[[0.0,\"#0d0887\"],[0.1111111111111111,\"#46039f\"],[0.2222222222222222,\"#7201a8\"],[0.3333333333333333,\"#9c179e\"],[0.4444444444444444,\"#bd3786\"],[0.5555555555555556,\"#d8576b\"],[0.6666666666666666,\"#ed7953\"],[0.7777777777777778,\"#fb9f3a\"],[0.8888888888888888,\"#fdca26\"],[1.0,\"#f0f921\"]],\"sequentialminus\":[[0.0,\"#0d0887\"],[0.1111111111111111,\"#46039f\"],[0.2222222222222222,\"#7201a8\"],[0.3333333333333333,\"#9c179e\"],[0.4444444444444444,\"#bd3786\"],[0.5555555555555556,\"#d8576b\"],[0.6666666666666666,\"#ed7953\"],[0.7777777777777778,\"#fb9f3a\"],[0.8888888888888888,\"#fdca26\"],[1.0,\"#f0f921\"]],\"diverging\":[[0,\"#8e0152\"],[0.1,\"#c51b7d\"],[0.2,\"#de77ae\"],[0.3,\"#f1b6da\"],[0.4,\"#fde0ef\"],[0.5,\"#f7f7f7\"],[0.6,\"#e6f5d0\"],[0.7,\"#b8e186\"],[0.8,\"#7fbc41\"],[0.9,\"#4d9221\"],[1,\"#276419\"]]},\"xaxis\":{\"gridcolor\":\"white\",\"linecolor\":\"white\",\"ticks\":\"\",\"title\":{\"standoff\":15},\"zerolinecolor\":\"white\",\"automargin\":true,\"zerolinewidth\":2},\"yaxis\":{\"gridcolor\":\"white\",\"linecolor\":\"white\",\"ticks\":\"\",\"title\":{\"standoff\":15},\"zerolinecolor\":\"white\",\"automargin\":true,\"zerolinewidth\":2},\"scene\":{\"xaxis\":{\"backgroundcolor\":\"#E5ECF6\",\"gridcolor\":\"white\",\"linecolor\":\"white\",\"showbackground\":true,\"ticks\":\"\",\"zerolinecolor\":\"white\",\"gridwidth\":2},\"yaxis\":{\"backgroundcolor\":\"#E5ECF6\",\"gridcolor\":\"white\",\"linecolor\":\"white\",\"showbackground\":true,\"ticks\":\"\",\"zerolinecolor\":\"white\",\"gridwidth\":2},\"zaxis\":{\"backgroundcolor\":\"#E5ECF6\",\"gridcolor\":\"white\",\"linecolor\":\"white\",\"showbackground\":true,\"ticks\":\"\",\"zerolinecolor\":\"white\",\"gridwidth\":2}},\"shapedefaults\":{\"line\":{\"color\":\"#2a3f5f\"}},\"annotationdefaults\":{\"arrowcolor\":\"#2a3f5f\",\"arrowhead\":0,\"arrowwidth\":1},\"geo\":{\"bgcolor\":\"white\",\"landcolor\":\"#E5ECF6\",\"subunitcolor\":\"white\",\"showland\":true,\"showlakes\":true,\"lakecolor\":\"white\"},\"title\":{\"x\":0.05},\"mapbox\":{\"style\":\"light\"}}},\"title\":{\"text\":\"Terrorist events with time\"},\"xaxis\":{\"title\":{\"text\":\"Year\"}},\"yaxis\":{\"title\":{\"text\":\"Number of events\"}},\"autosize\":false,\"width\":1100,\"height\":600},                        {\"responsive\": true}                    ).then(function(){\n",
              "                            \n",
              "var gd = document.getElementById('15e8b81a-e005-4b4c-bc98-8a55deb3e899');\n",
              "var x = new MutationObserver(function (mutations, observer) {{\n",
              "        var display = window.getComputedStyle(gd).display;\n",
              "        if (!display || display === 'none') {{\n",
              "            console.log([gd, 'removed!']);\n",
              "            Plotly.purge(gd);\n",
              "            observer.disconnect();\n",
              "        }}\n",
              "}});\n",
              "\n",
              "// Listen for the removal of the full notebook cells\n",
              "var notebookContainer = gd.closest('#notebook-container');\n",
              "if (notebookContainer) {{\n",
              "    x.observe(notebookContainer, {childList: true});\n",
              "}}\n",
              "\n",
              "// Listen for the clearing of the current output cell\n",
              "var outputEl = gd.closest('.output');\n",
              "if (outputEl) {{\n",
              "    x.observe(outputEl, {childList: true});\n",
              "}}\n",
              "\n",
              "                        })                };                            </script>        </div>\n",
              "</body>\n",
              "</html>"
            ]
          },
          "metadata": {}
        }
      ]
    },
    {
      "cell_type": "markdown",
      "source": [
        "#### Chart - 1"
      ],
      "metadata": {
        "id": "0wOQAZs5pc--"
      }
    },
    {
      "cell_type": "code",
      "source": [
        "# Chart - 1 visualization code"
      ],
      "metadata": {
        "id": "7v_ESjsspbW7"
      },
      "execution_count": null,
      "outputs": []
    },
    {
      "cell_type": "markdown",
      "source": [
        "##### 1. Why did you pick the specific chart?"
      ],
      "metadata": {
        "id": "K5QZ13OEpz2H"
      }
    },
    {
      "cell_type": "markdown",
      "source": [
        "Answer Here."
      ],
      "metadata": {
        "id": "XESiWehPqBRc"
      }
    },
    {
      "cell_type": "markdown",
      "source": [
        "##### 2. What is/are the insight(s) found from the chart?"
      ],
      "metadata": {
        "id": "lQ7QKXXCp7Bj"
      }
    },
    {
      "cell_type": "markdown",
      "source": [
        "Answer Here"
      ],
      "metadata": {
        "id": "C_j1G7yiqdRP"
      }
    },
    {
      "cell_type": "markdown",
      "source": [
        "##### 3. Will the gained insights help creating a positive business impact?\n",
        "Are there any insights that lead to negative growth? Justify with specific reason."
      ],
      "metadata": {
        "id": "448CDAPjqfQr"
      }
    },
    {
      "cell_type": "markdown",
      "source": [
        "Answer Here"
      ],
      "metadata": {
        "id": "3cspy4FjqxJW"
      }
    },
    {
      "cell_type": "markdown",
      "source": [
        "#### Chart - 2"
      ],
      "metadata": {
        "id": "KSlN3yHqYklG"
      }
    },
    {
      "cell_type": "code",
      "source": [
        "# Chart - 2 visualization code"
      ],
      "metadata": {
        "id": "R4YgtaqtYklH"
      },
      "execution_count": null,
      "outputs": []
    },
    {
      "cell_type": "markdown",
      "source": [
        "##### 1. Why did you pick the specific chart?"
      ],
      "metadata": {
        "id": "t6dVpIINYklI"
      }
    },
    {
      "cell_type": "markdown",
      "source": [
        "Answer Here."
      ],
      "metadata": {
        "id": "5aaW0BYyYklI"
      }
    },
    {
      "cell_type": "markdown",
      "source": [
        "##### 2. What is/are the insight(s) found from the chart?"
      ],
      "metadata": {
        "id": "ijmpgYnKYklI"
      }
    },
    {
      "cell_type": "markdown",
      "source": [
        "Answer Here"
      ],
      "metadata": {
        "id": "PSx9atu2YklI"
      }
    },
    {
      "cell_type": "markdown",
      "source": [
        "##### 3. Will the gained insights help creating a positive business impact?\n",
        "Are there any insights that lead to negative growth? Justify with specific reason."
      ],
      "metadata": {
        "id": "-JiQyfWJYklI"
      }
    },
    {
      "cell_type": "markdown",
      "source": [
        "Answer Here"
      ],
      "metadata": {
        "id": "BcBbebzrYklV"
      }
    },
    {
      "cell_type": "markdown",
      "source": [
        "#### Chart - 3"
      ],
      "metadata": {
        "id": "EM7whBJCYoAo"
      }
    },
    {
      "cell_type": "code",
      "source": [
        "# Chart - 3 visualization code"
      ],
      "metadata": {
        "id": "t6GMdE67YoAp"
      },
      "execution_count": null,
      "outputs": []
    },
    {
      "cell_type": "markdown",
      "source": [
        "##### 1. Why did you pick the specific chart?"
      ],
      "metadata": {
        "id": "fge-S5ZAYoAp"
      }
    },
    {
      "cell_type": "markdown",
      "source": [
        "Answer Here."
      ],
      "metadata": {
        "id": "5dBItgRVYoAp"
      }
    },
    {
      "cell_type": "markdown",
      "source": [
        "##### 2. What is/are the insight(s) found from the chart?"
      ],
      "metadata": {
        "id": "85gYPyotYoAp"
      }
    },
    {
      "cell_type": "markdown",
      "source": [
        "Answer Here"
      ],
      "metadata": {
        "id": "4jstXR6OYoAp"
      }
    },
    {
      "cell_type": "markdown",
      "source": [
        "##### 3. Will the gained insights help creating a positive business impact?\n",
        "Are there any insights that lead to negative growth? Justify with specific reason."
      ],
      "metadata": {
        "id": "RoGjAbkUYoAp"
      }
    },
    {
      "cell_type": "markdown",
      "source": [
        "Answer Here"
      ],
      "metadata": {
        "id": "zfJ8IqMcYoAp"
      }
    },
    {
      "cell_type": "markdown",
      "source": [
        "#### Chart - 4"
      ],
      "metadata": {
        "id": "4Of9eVA-YrdM"
      }
    },
    {
      "cell_type": "code",
      "source": [
        "# Chart - 4 visualization code"
      ],
      "metadata": {
        "id": "irlUoxc8YrdO"
      },
      "execution_count": null,
      "outputs": []
    },
    {
      "cell_type": "markdown",
      "source": [
        "##### 1. Why did you pick the specific chart?"
      ],
      "metadata": {
        "id": "iky9q4vBYrdO"
      }
    },
    {
      "cell_type": "markdown",
      "source": [
        "Answer Here."
      ],
      "metadata": {
        "id": "aJRCwT6DYrdO"
      }
    },
    {
      "cell_type": "markdown",
      "source": [
        "##### 2. What is/are the insight(s) found from the chart?"
      ],
      "metadata": {
        "id": "F6T5p64dYrdO"
      }
    },
    {
      "cell_type": "markdown",
      "source": [
        "Answer Here"
      ],
      "metadata": {
        "id": "Xx8WAJvtYrdO"
      }
    },
    {
      "cell_type": "markdown",
      "source": [
        "##### 3. Will the gained insights help creating a positive business impact?\n",
        "Are there any insights that lead to negative growth? Justify with specific reason."
      ],
      "metadata": {
        "id": "y-Ehk30pYrdP"
      }
    },
    {
      "cell_type": "markdown",
      "source": [
        "Answer Here"
      ],
      "metadata": {
        "id": "jLNxxz7MYrdP"
      }
    },
    {
      "cell_type": "markdown",
      "source": [
        "#### Chart - 5"
      ],
      "metadata": {
        "id": "bamQiAODYuh1"
      }
    },
    {
      "cell_type": "code",
      "source": [
        "# Chart - 5 visualization code"
      ],
      "metadata": {
        "id": "TIJwrbroYuh3"
      },
      "execution_count": null,
      "outputs": []
    },
    {
      "cell_type": "markdown",
      "source": [
        "##### 1. Why did you pick the specific chart?"
      ],
      "metadata": {
        "id": "QHF8YVU7Yuh3"
      }
    },
    {
      "cell_type": "markdown",
      "source": [
        "Answer Here."
      ],
      "metadata": {
        "id": "dcxuIMRPYuh3"
      }
    },
    {
      "cell_type": "markdown",
      "source": [
        "##### 2. What is/are the insight(s) found from the chart?"
      ],
      "metadata": {
        "id": "GwzvFGzlYuh3"
      }
    },
    {
      "cell_type": "markdown",
      "source": [
        "Answer Here"
      ],
      "metadata": {
        "id": "uyqkiB8YYuh3"
      }
    },
    {
      "cell_type": "markdown",
      "source": [
        "##### 3. Will the gained insights help creating a positive business impact?\n",
        "Are there any insights that lead to negative growth? Justify with specific reason."
      ],
      "metadata": {
        "id": "qYpmQ266Yuh3"
      }
    },
    {
      "cell_type": "markdown",
      "source": [
        "Answer Here"
      ],
      "metadata": {
        "id": "_WtzZ_hCYuh4"
      }
    },
    {
      "cell_type": "markdown",
      "source": [
        "#### Chart - 6"
      ],
      "metadata": {
        "id": "OH-pJp9IphqM"
      }
    },
    {
      "cell_type": "code",
      "source": [
        "# Chart - 6 visualization code"
      ],
      "metadata": {
        "id": "kuRf4wtuphqN"
      },
      "execution_count": null,
      "outputs": []
    },
    {
      "cell_type": "markdown",
      "source": [
        "##### 1. Why did you pick the specific chart?"
      ],
      "metadata": {
        "id": "bbFf2-_FphqN"
      }
    },
    {
      "cell_type": "markdown",
      "source": [
        "Answer Here."
      ],
      "metadata": {
        "id": "loh7H2nzphqN"
      }
    },
    {
      "cell_type": "markdown",
      "source": [
        "##### 2. What is/are the insight(s) found from the chart?"
      ],
      "metadata": {
        "id": "_ouA3fa0phqN"
      }
    },
    {
      "cell_type": "markdown",
      "source": [
        "Answer Here"
      ],
      "metadata": {
        "id": "VECbqPI7phqN"
      }
    },
    {
      "cell_type": "markdown",
      "source": [
        "##### 3. Will the gained insights help creating a positive business impact?\n",
        "Are there any insights that lead to negative growth? Justify with specific reason."
      ],
      "metadata": {
        "id": "Seke61FWphqN"
      }
    },
    {
      "cell_type": "markdown",
      "source": [
        "Answer Here"
      ],
      "metadata": {
        "id": "DW4_bGpfphqN"
      }
    },
    {
      "cell_type": "markdown",
      "source": [
        "#### Chart - 7"
      ],
      "metadata": {
        "id": "PIIx-8_IphqN"
      }
    },
    {
      "cell_type": "code",
      "source": [
        "# Chart - 7 visualization code"
      ],
      "metadata": {
        "id": "lqAIGUfyphqO"
      },
      "execution_count": null,
      "outputs": []
    },
    {
      "cell_type": "markdown",
      "source": [
        "##### 1. Why did you pick the specific chart?"
      ],
      "metadata": {
        "id": "t27r6nlMphqO"
      }
    },
    {
      "cell_type": "markdown",
      "source": [
        "Answer Here."
      ],
      "metadata": {
        "id": "iv6ro40sphqO"
      }
    },
    {
      "cell_type": "markdown",
      "source": [
        "##### 2. What is/are the insight(s) found from the chart?"
      ],
      "metadata": {
        "id": "r2jJGEOYphqO"
      }
    },
    {
      "cell_type": "markdown",
      "source": [
        "Answer Here"
      ],
      "metadata": {
        "id": "Po6ZPi4hphqO"
      }
    },
    {
      "cell_type": "markdown",
      "source": [
        "##### 3. Will the gained insights help creating a positive business impact?\n",
        "Are there any insights that lead to negative growth? Justify with specific reason."
      ],
      "metadata": {
        "id": "b0JNsNcRphqO"
      }
    },
    {
      "cell_type": "markdown",
      "source": [
        "Answer Here"
      ],
      "metadata": {
        "id": "xvSq8iUTphqO"
      }
    },
    {
      "cell_type": "markdown",
      "source": [
        "#### Chart - 8"
      ],
      "metadata": {
        "id": "BZR9WyysphqO"
      }
    },
    {
      "cell_type": "code",
      "source": [
        "# Chart - 8 visualization code"
      ],
      "metadata": {
        "id": "TdPTWpAVphqO"
      },
      "execution_count": null,
      "outputs": []
    },
    {
      "cell_type": "markdown",
      "source": [
        "##### 1. Why did you pick the specific chart?"
      ],
      "metadata": {
        "id": "jj7wYXLtphqO"
      }
    },
    {
      "cell_type": "markdown",
      "source": [
        "Answer Here."
      ],
      "metadata": {
        "id": "Ob8u6rCTphqO"
      }
    },
    {
      "cell_type": "markdown",
      "source": [
        "##### 2. What is/are the insight(s) found from the chart?"
      ],
      "metadata": {
        "id": "eZrbJ2SmphqO"
      }
    },
    {
      "cell_type": "markdown",
      "source": [
        "Answer Here"
      ],
      "metadata": {
        "id": "mZtgC_hjphqO"
      }
    },
    {
      "cell_type": "markdown",
      "source": [
        "##### 3. Will the gained insights help creating a positive business impact?\n",
        "Are there any insights that lead to negative growth? Justify with specific reason."
      ],
      "metadata": {
        "id": "rFu4xreNphqO"
      }
    },
    {
      "cell_type": "markdown",
      "source": [
        "Answer Here"
      ],
      "metadata": {
        "id": "ey_0qi68phqO"
      }
    },
    {
      "cell_type": "markdown",
      "source": [
        "#### Chart - 9"
      ],
      "metadata": {
        "id": "YJ55k-q6phqO"
      }
    },
    {
      "cell_type": "code",
      "source": [
        "# Chart - 9 visualization code"
      ],
      "metadata": {
        "id": "B2aS4O1ophqO"
      },
      "execution_count": null,
      "outputs": []
    },
    {
      "cell_type": "markdown",
      "source": [
        "##### 1. Why did you pick the specific chart?"
      ],
      "metadata": {
        "id": "gCFgpxoyphqP"
      }
    },
    {
      "cell_type": "markdown",
      "source": [
        "Answer Here."
      ],
      "metadata": {
        "id": "TVxDimi2phqP"
      }
    },
    {
      "cell_type": "markdown",
      "source": [
        "##### 2. What is/are the insight(s) found from the chart?"
      ],
      "metadata": {
        "id": "OVtJsKN_phqQ"
      }
    },
    {
      "cell_type": "markdown",
      "source": [
        "Answer Here"
      ],
      "metadata": {
        "id": "ngGi97qjphqQ"
      }
    },
    {
      "cell_type": "markdown",
      "source": [
        "##### 3. Will the gained insights help creating a positive business impact?\n",
        "Are there any insights that lead to negative growth? Justify with specific reason."
      ],
      "metadata": {
        "id": "lssrdh5qphqQ"
      }
    },
    {
      "cell_type": "markdown",
      "source": [
        "Answer Here"
      ],
      "metadata": {
        "id": "tBpY5ekJphqQ"
      }
    },
    {
      "cell_type": "markdown",
      "source": [
        "#### Chart - 10"
      ],
      "metadata": {
        "id": "U2RJ9gkRphqQ"
      }
    },
    {
      "cell_type": "code",
      "source": [
        "# Chart - 10 visualization code"
      ],
      "metadata": {
        "id": "GM7a4YP4phqQ"
      },
      "execution_count": null,
      "outputs": []
    },
    {
      "cell_type": "markdown",
      "source": [
        "##### 1. Why did you pick the specific chart?"
      ],
      "metadata": {
        "id": "1M8mcRywphqQ"
      }
    },
    {
      "cell_type": "markdown",
      "source": [
        "Answer Here."
      ],
      "metadata": {
        "id": "8agQvks0phqQ"
      }
    },
    {
      "cell_type": "markdown",
      "source": [
        "##### 2. What is/are the insight(s) found from the chart?"
      ],
      "metadata": {
        "id": "tgIPom80phqQ"
      }
    },
    {
      "cell_type": "markdown",
      "source": [
        "Answer Here"
      ],
      "metadata": {
        "id": "Qp13pnNzphqQ"
      }
    },
    {
      "cell_type": "markdown",
      "source": [
        "##### 3. Will the gained insights help creating a positive business impact?\n",
        "Are there any insights that lead to negative growth? Justify with specific reason."
      ],
      "metadata": {
        "id": "JMzcOPDDphqR"
      }
    },
    {
      "cell_type": "markdown",
      "source": [
        "Answer Here"
      ],
      "metadata": {
        "id": "R4Ka1PC2phqR"
      }
    },
    {
      "cell_type": "markdown",
      "source": [
        "#### Chart - 11"
      ],
      "metadata": {
        "id": "x-EpHcCOp1ci"
      }
    },
    {
      "cell_type": "code",
      "source": [
        "# Chart - 11 visualization code"
      ],
      "metadata": {
        "id": "mAQTIvtqp1cj"
      },
      "execution_count": null,
      "outputs": []
    },
    {
      "cell_type": "markdown",
      "source": [
        "##### 1. Why did you pick the specific chart?"
      ],
      "metadata": {
        "id": "X_VqEhTip1ck"
      }
    },
    {
      "cell_type": "markdown",
      "source": [
        "Answer Here."
      ],
      "metadata": {
        "id": "-vsMzt_np1ck"
      }
    },
    {
      "cell_type": "markdown",
      "source": [
        "##### 2. What is/are the insight(s) found from the chart?"
      ],
      "metadata": {
        "id": "8zGJKyg5p1ck"
      }
    },
    {
      "cell_type": "markdown",
      "source": [
        "Answer Here"
      ],
      "metadata": {
        "id": "ZYdMsrqVp1ck"
      }
    },
    {
      "cell_type": "markdown",
      "source": [
        "##### 3. Will the gained insights help creating a positive business impact?\n",
        "Are there any insights that lead to negative growth? Justify with specific reason."
      ],
      "metadata": {
        "id": "PVzmfK_Ep1ck"
      }
    },
    {
      "cell_type": "markdown",
      "source": [
        "Answer Here"
      ],
      "metadata": {
        "id": "druuKYZpp1ck"
      }
    },
    {
      "cell_type": "markdown",
      "source": [
        "#### Chart - 12"
      ],
      "metadata": {
        "id": "n3dbpmDWp1ck"
      }
    },
    {
      "cell_type": "code",
      "source": [
        "# Chart - 12 visualization code"
      ],
      "metadata": {
        "id": "bwevp1tKp1ck"
      },
      "execution_count": null,
      "outputs": []
    },
    {
      "cell_type": "markdown",
      "source": [
        "##### 1. Why did you pick the specific chart?"
      ],
      "metadata": {
        "id": "ylSl6qgtp1ck"
      }
    },
    {
      "cell_type": "markdown",
      "source": [
        "Answer Here."
      ],
      "metadata": {
        "id": "m2xqNkiQp1ck"
      }
    },
    {
      "cell_type": "markdown",
      "source": [
        "##### 2. What is/are the insight(s) found from the chart?"
      ],
      "metadata": {
        "id": "ZWILFDl5p1ck"
      }
    },
    {
      "cell_type": "markdown",
      "source": [
        "Answer Here"
      ],
      "metadata": {
        "id": "x-lUsV2mp1ck"
      }
    },
    {
      "cell_type": "markdown",
      "source": [
        "##### 3. Will the gained insights help creating a positive business impact?\n",
        "Are there any insights that lead to negative growth? Justify with specific reason."
      ],
      "metadata": {
        "id": "M7G43BXep1ck"
      }
    },
    {
      "cell_type": "markdown",
      "source": [
        "Answer Here"
      ],
      "metadata": {
        "id": "5wwDJXsLp1cl"
      }
    },
    {
      "cell_type": "markdown",
      "source": [
        "#### Chart - 13"
      ],
      "metadata": {
        "id": "Ag9LCva-p1cl"
      }
    },
    {
      "cell_type": "code",
      "source": [
        "# Chart - 13 visualization code"
      ],
      "metadata": {
        "id": "EUfxeq9-p1cl"
      },
      "execution_count": null,
      "outputs": []
    },
    {
      "cell_type": "markdown",
      "source": [
        "##### 1. Why did you pick the specific chart?"
      ],
      "metadata": {
        "id": "E6MkPsBcp1cl"
      }
    },
    {
      "cell_type": "markdown",
      "source": [
        "Answer Here."
      ],
      "metadata": {
        "id": "V22bRsFWp1cl"
      }
    },
    {
      "cell_type": "markdown",
      "source": [
        "##### 2. What is/are the insight(s) found from the chart?"
      ],
      "metadata": {
        "id": "2cELzS2fp1cl"
      }
    },
    {
      "cell_type": "markdown",
      "source": [
        "Answer Here"
      ],
      "metadata": {
        "id": "ozQPc2_Ip1cl"
      }
    },
    {
      "cell_type": "markdown",
      "source": [
        "##### 3. Will the gained insights help creating a positive business impact?\n",
        "Are there any insights that lead to negative growth? Justify with specific reason."
      ],
      "metadata": {
        "id": "3MPXvC8up1cl"
      }
    },
    {
      "cell_type": "markdown",
      "source": [
        "Answer Here"
      ],
      "metadata": {
        "id": "GL8l1tdLp1cl"
      }
    },
    {
      "cell_type": "markdown",
      "source": [
        "#### Chart - 14 - Correlation Heatmap"
      ],
      "metadata": {
        "id": "NC_X3p0fY2L0"
      }
    },
    {
      "cell_type": "code",
      "source": [
        "# Correlation Heatmap visualization code"
      ],
      "metadata": {
        "id": "xyC9zolEZNRQ"
      },
      "execution_count": null,
      "outputs": []
    },
    {
      "cell_type": "markdown",
      "source": [
        "##### 1. Why did you pick the specific chart?"
      ],
      "metadata": {
        "id": "UV0SzAkaZNRQ"
      }
    },
    {
      "cell_type": "markdown",
      "source": [
        "Answer Here."
      ],
      "metadata": {
        "id": "DVPuT8LYZNRQ"
      }
    },
    {
      "cell_type": "markdown",
      "source": [
        "##### 2. What is/are the insight(s) found from the chart?"
      ],
      "metadata": {
        "id": "YPEH6qLeZNRQ"
      }
    },
    {
      "cell_type": "markdown",
      "source": [
        "Answer Here"
      ],
      "metadata": {
        "id": "bfSqtnDqZNRR"
      }
    },
    {
      "cell_type": "markdown",
      "source": [
        "#### Chart - 15 - Pair Plot"
      ],
      "metadata": {
        "id": "q29F0dvdveiT"
      }
    },
    {
      "cell_type": "code",
      "source": [
        "# Pair Plot visualization code"
      ],
      "metadata": {
        "id": "o58-TEIhveiU"
      },
      "execution_count": null,
      "outputs": []
    },
    {
      "cell_type": "markdown",
      "source": [
        "##### 1. Why did you pick the specific chart?"
      ],
      "metadata": {
        "id": "EXh0U9oCveiU"
      }
    },
    {
      "cell_type": "markdown",
      "source": [
        "Answer Here."
      ],
      "metadata": {
        "id": "eMmPjTByveiU"
      }
    },
    {
      "cell_type": "markdown",
      "source": [
        "##### 2. What is/are the insight(s) found from the chart?"
      ],
      "metadata": {
        "id": "22aHeOlLveiV"
      }
    },
    {
      "cell_type": "markdown",
      "source": [
        "Answer Here"
      ],
      "metadata": {
        "id": "uPQ8RGwHveiV"
      }
    },
    {
      "cell_type": "markdown",
      "source": [
        "## **5. Solution to Business Objective**"
      ],
      "metadata": {
        "id": "JcMwzZxoAimU"
      }
    },
    {
      "cell_type": "markdown",
      "source": [
        "#### What do you suggest the client to achieve Business Objective ?\n",
        "Explain Briefly."
      ],
      "metadata": {
        "id": "8G2x9gOozGDZ"
      }
    },
    {
      "cell_type": "markdown",
      "source": [
        "Answer Here."
      ],
      "metadata": {
        "id": "pASKb0qOza21"
      }
    },
    {
      "cell_type": "markdown",
      "source": [
        "# **Conclusion**"
      ],
      "metadata": {
        "id": "gCX9965dhzqZ"
      }
    },
    {
      "cell_type": "markdown",
      "source": [
        "Write the conclusion here."
      ],
      "metadata": {
        "id": "Fjb1IsQkh3yE"
      }
    },
    {
      "cell_type": "markdown",
      "source": [
        "### ***Hurrah! You have successfully completed your EDA Capstone Project !!!***"
      ],
      "metadata": {
        "id": "gIfDvo9L0UH2"
      }
    }
  ]
}